{
  "nbformat": 4,
  "nbformat_minor": 0,
  "metadata": {
    "colab": {
      "name": "Feature Slsection",
      "provenance": [],
      "authorship_tag": "ABX9TyNyM5FMXYUzsR7lzVYAi/Br",
      "include_colab_link": true
    },
    "kernelspec": {
      "name": "python3",
      "display_name": "Python 3"
    },
    "language_info": {
      "name": "python"
    }
  },
  "cells": [
    {
      "cell_type": "markdown",
      "metadata": {
        "id": "view-in-github",
        "colab_type": "text"
      },
      "source": [
        "<a href=\"https://colab.research.google.com/github/KorKanticha/SeniorProject/blob/main/Feature_Slsection.ipynb\" target=\"_parent\"><img src=\"https://colab.research.google.com/assets/colab-badge.svg\" alt=\"Open In Colab\"/></a>"
      ]
    },
    {
      "cell_type": "code",
      "execution_count": 1,
      "metadata": {
        "colab": {
          "base_uri": "https://localhost:8080/"
        },
        "id": "ApVEpH1DT849",
        "outputId": "35e70beb-8b66-471c-9231-02b8ab2b1995"
      },
      "outputs": [
        {
          "output_type": "stream",
          "name": "stdout",
          "text": [
            "Mounted at /content/gdrive\n"
          ]
        }
      ],
      "source": [
        "import pandas as pd\n",
        "import numpy as np\n",
        "from sklearn.tree import DecisionTreeClassifier # Import Decision Tree Classifier\n",
        "from sklearn.model_selection import train_test_split # Import train_test_split function\n",
        "from sklearn import metrics #Import scikit-learn metrics module for accuracy calculation\n",
        "from google.colab import drive\n",
        "from sklearn.linear_model import LogisticRegression\n",
        "from sklearn.metrics import confusion_matrix\n",
        "from sklearn.metrics import classification_report\n",
        "drive.mount('/content/gdrive')\n",
        "xls_Suicide = pd.ExcelFile(\"/content/gdrive/MyDrive/SeniorProject_KorBoss/Cleaned_Dummy8.xlsx\")\n",
        "df = dict()\n",
        "df = pd.read_excel(xls_Suicide)"
      ]
    },
    {
      "cell_type": "code",
      "source": [
        "#ตัด WTK, attemptToDie,AttemptHurtOthers\n",
        "feature_cols = ['Gender_หญิง', 'Age', 'Province_Happen_11', 'Province_Happen_12', 'Province_Happen_13', 'Province_Happen_14', 'Province_Happen_15', 'Province_Happen_16', 'Province_Happen_17', 'Province_Happen_18', 'Province_Happen_19', 'Province_Happen_20', 'Province_Happen_21', 'Province_Happen_22', 'Province_Happen_23', 'Province_Happen_24', 'Province_Happen_25', 'Province_Happen_26', 'Province_Happen_27', 'Province_Happen_30', 'Province_Happen_31', 'Province_Happen_32', 'Province_Happen_33', 'Province_Happen_34', 'Province_Happen_35', 'Province_Happen_36', 'Province_Happen_37', 'Province_Happen_38', 'Province_Happen_39', 'Province_Happen_40', 'Province_Happen_41', 'Province_Happen_42', 'Province_Happen_43', 'Province_Happen_44', 'Province_Happen_45', 'Province_Happen_46', 'Province_Happen_47', 'Province_Happen_48', 'Province_Happen_49', 'Province_Happen_50', 'Province_Happen_51', 'Province_Happen_52', 'Province_Happen_53', 'Province_Happen_54', 'Province_Happen_55', 'Province_Happen_56', 'Province_Happen_57', 'Province_Happen_58', 'Province_Happen_60', 'Province_Happen_61', 'Province_Happen_62', 'Province_Happen_63', 'Province_Happen_64', 'Province_Happen_65', 'Province_Happen_66', 'Province_Happen_67', 'Province_Happen_70', 'Province_Happen_71', 'Province_Happen_72', 'Province_Happen_73', 'Province_Happen_74', 'Province_Happen_75', 'Province_Happen_76', 'Province_Happen_77', 'Province_Happen_80', 'Province_Happen_81', 'Province_Happen_82', 'Province_Happen_83', 'Province_Happen_84', 'Province_Happen_85', 'Province_Happen_86', 'Province_Happen_90', 'Province_Happen_91', 'Province_Happen_92', 'Province_Happen_93', 'Province_Happen_94', 'Province_Happen_95', 'Province_Happen_96', 'Province_Happen_ต่างประเทศ', 'Status_คู่', 'Status_สมณะ', 'Status_หม้าย', 'Status_หย่า', 'Status_แยก', 'Status_โสด', 'Religion_คริสต์', 'Religion_ซิกข์', 'Religion_บาไฮ', 'Religion_พุทธ', 'Religion_อิสลาม', 'Religion_ไม่นับถือศาสนา', 'Disease_M_Physcopath_1', 'Disease_M_Depression_1', 'Disease_M_Others_1', 'Disease_P_Diabetes_1', 'Disease_P_HBP_1', 'Disease_P_Cardio_1', 'Disease_P_Kidney_1', 'Disease_P_Liver_1', 'Disease_P_lung_1', 'Disease_P_Migrant_1', 'Disease_P_Joint_1', 'Disease_P_Paralyze_1', 'Disease_P_Cancer_1', 'Disease_P_HIV_1', 'Disease_P_Others_1', 'Time_Group_1', 'Time_Group_2', 'Time_Group_3', 'Time_Group_4', 'Time_Group_5', 'Time_Group_6', 'Month_Group_1', 'Month_Group_2', 'Month_Group_3', 'Month_Group_4', 'Attempt_Year', 'Attempt_Ever_0', 'Attempt_Ever_1', 'Attempt_Sign_0', 'Attempt_Sign_1', 'Factor_R_Neglected_1', 'Factor_R_Humuliated_1', 'Factor_R_Jeolous_1', 'Factor_R_Qurrel_1', 'Factor_R_Needy_1', 'Factor_R_Lost_1', 'Factor_R_Aging_Lonesome_1', 'Factor_R_Working_Environment_1', 'Factor_Alcoholic_0', 'Factor_Alcoholic_1', 'Factor_A_At_Sucide_Attempt_1', 'Factor_Drugs_0', 'Factor_Drugs_1', 'Factor_D_At_Sucide_Attempt_1', 'Factor_Di_Lonesone_0', 'Factor_Di_Lonesone_1', 'Factor_Di_Pain_0', 'Factor_Di_Pain_1', 'Factor_Economic_0', 'Factor_Economic_1', 'Factor_E_Poor_0', 'Factor_E_Poor_1', 'Factor_E_Unemployed_0', 'Factor_E_Unemployed_1', 'Factor_E_Dept_0', 'Factor_E_Dept_1', 'Factor_Others_1', 'Disease_P_Direct_COVID_1', 'Disease_P_COVID_1', 'Factor_C_Unemployed_0', 'Factor_C_Unemployed_1', 'Factor_C_Poor_0', 'Factor_C_Poor_1', 'Factor_C_Dept_0', 'Factor_C_Dept_1', 'Factor_C_Mental_0', 'Factor_C_Mental_1', 'Factor_C_Others_0', 'Factor_C_Others_1']\n",
        "#feature_cols = ['Gender_หญิง', 'Age', 'Province_Happen_11', 'Province_Happen_12', 'Province_Happen_13', 'Province_Happen_14', 'Province_Happen_15', 'Province_Happen_16', 'Province_Happen_17', 'Province_Happen_18', 'Province_Happen_19', 'Province_Happen_20', 'Province_Happen_21', 'Province_Happen_22', 'Province_Happen_23', 'Province_Happen_24', 'Province_Happen_25', 'Province_Happen_26', 'Province_Happen_27', 'Province_Happen_30', 'Province_Happen_31', 'Province_Happen_32', 'Province_Happen_33', 'Province_Happen_34', 'Province_Happen_35', 'Province_Happen_36', 'Province_Happen_37', 'Province_Happen_38', 'Province_Happen_39', 'Province_Happen_40', 'Province_Happen_41', 'Province_Happen_42', 'Province_Happen_43', 'Province_Happen_44', 'Province_Happen_45', 'Province_Happen_46', 'Province_Happen_47', 'Province_Happen_48', 'Province_Happen_49', 'Province_Happen_50', 'Province_Happen_51', 'Province_Happen_52', 'Province_Happen_53', 'Province_Happen_54', 'Province_Happen_55', 'Province_Happen_56', 'Province_Happen_57', 'Province_Happen_58', 'Province_Happen_60', 'Province_Happen_61', 'Province_Happen_62', 'Province_Happen_63', 'Province_Happen_64', 'Province_Happen_65', 'Province_Happen_66', 'Province_Happen_67', 'Province_Happen_70', 'Province_Happen_71', 'Province_Happen_72', 'Province_Happen_73', 'Province_Happen_74', 'Province_Happen_75', 'Province_Happen_76', 'Province_Happen_77', 'Province_Happen_80', 'Province_Happen_81', 'Province_Happen_82', 'Province_Happen_83', 'Province_Happen_84', 'Province_Happen_85', 'Province_Happen_86', 'Province_Happen_90', 'Province_Happen_91', 'Province_Happen_92', 'Province_Happen_93', 'Province_Happen_94', 'Province_Happen_95', 'Province_Happen_96', 'Province_Happen_ต่างประเทศ', 'Status_คู่', 'Status_สมณะ', 'Status_หม้าย', 'Status_หย่า', 'Status_แยก', 'Status_โสด', 'Religion_คริสต์', 'Religion_ซิกข์', 'Religion_บาไฮ', 'Religion_พุทธ', 'Religion_อิสลาม', 'Religion_ไม่นับถือศาสนา', 'WTK_Overdose_1', 'WTK_Insecticide_1', 'WTK_Herbicide_1', 'WTK_Other_Chemicals_1', 'WTK_Sharp_Weapons_1', 'WTK_Guns_1', 'WTK_Jump_Off_Building_1', 'WTK_Hang_1', 'WTK_Jump_Into_Water_1', 'WTK_Ran_Into_Cars_1', 'WTK_Smoke_Gas_1', 'Disease_M_Physcopath_1', 'Disease_M_Depression_1', 'Disease_M_Others_1', 'Disease_P_Diabetes_1', 'Disease_P_HBP_1', 'Disease_P_Cardio_1', 'Disease_P_Kidney_1', 'Disease_P_Liver_1', 'Disease_P_lung_1', 'Disease_P_Migrant_1', 'Disease_P_Joint_1', 'Disease_P_Paralyze_1', 'Disease_P_Cancer_1', 'Disease_P_HIV_1', 'Disease_P_Others_1', 'Time_Group_1', 'Time_Group_2', 'Time_Group_3', 'Time_Group_4', 'Time_Group_5', 'Time_Group_6', 'Month_Group_1', 'Month_Group_2', 'Month_Group_3', 'Month_Group_4', 'Attempt_Year', 'Attempt_Hurt_Others_0', 'Attempt_Hurt_Others_1', 'Attempt_Ever_0', 'Attempt_Ever_1', 'Attempt_To_Die_0', 'Attempt_To_Die_1', 'Attempt_Sign_0', 'Attempt_Sign_1', 'Factor_R_Neglected_1', 'Factor_R_Humuliated_1', 'Factor_R_Jeolous_1', 'Factor_R_Qurrel_1', 'Factor_R_Needy_1', 'Factor_R_Lost_1', 'Factor_R_Aging_Lonesome_1', 'Factor_R_Working_Environment_1', 'Factor_Alcoholic_0', 'Factor_Alcoholic_1', 'Factor_A_At_Sucide_Attempt_1', 'Factor_Drugs_0', 'Factor_Drugs_1', 'Factor_D_At_Sucide_Attempt_1', 'Factor_Di_Lonesone_0', 'Factor_Di_Lonesone_1', 'Factor_Di_Pain_0', 'Factor_Di_Pain_1', 'Factor_Economic_0', 'Factor_Economic_1', 'Factor_E_Poor_0', 'Factor_E_Poor_1', 'Factor_E_Unemployed_0', 'Factor_E_Unemployed_1', 'Factor_E_Dept_0', 'Factor_E_Dept_1', 'Factor_Others_1', 'Disease_P_Direct_COVID_1', 'Disease_P_COVID_1', 'Factor_C_Unemployed_0', 'Factor_C_Unemployed_1', 'Factor_C_Poor_0', 'Factor_C_Poor_1', 'Factor_C_Dept_0', 'Factor_C_Dept_1', 'Factor_C_Mental_0', 'Factor_C_Mental_1', 'Factor_C_Others_0', 'Factor_C_Others_1']\n",
        "\n",
        "#(Practical ver 2)ตัด  province,covid,WTK, attemptToDie,AttemptHurtOthers\n",
        "#feature_cols = ['Gender_หญิง', 'Age',  'Status_คู่', 'Status_สมณะ', 'Status_หม้าย', 'Status_หย่า', 'Status_แยก', 'Status_โสด', 'Religion_คริสต์', 'Religion_ซิกข์', 'Religion_บาไฮ', 'Religion_พุทธ', 'Religion_อิสลาม', 'Religion_ไม่นับถือศาสนา', 'Disease_M_Physcopath_1', 'Disease_M_Depression_1', 'Disease_M_Others_1', 'Disease_P_Diabetes_1', 'Disease_P_HBP_1', 'Disease_P_Cardio_1', 'Disease_P_Kidney_1', 'Disease_P_Liver_1', 'Disease_P_lung_1', 'Disease_P_Migrant_1', 'Disease_P_Joint_1', 'Disease_P_Paralyze_1', 'Disease_P_Cancer_1', 'Disease_P_HIV_1', 'Disease_P_Others_1', 'Time_Group_1', 'Time_Group_2', 'Time_Group_3', 'Time_Group_4', 'Time_Group_5', 'Time_Group_6', 'Month_Group_1', 'Month_Group_2', 'Month_Group_3', 'Month_Group_4', 'Attempt_Year', 'Attempt_Ever_0', 'Attempt_Ever_1', 'Attempt_Sign_0', 'Attempt_Sign_1', 'Factor_R_Neglected_1', 'Factor_R_Humuliated_1', 'Factor_R_Jeolous_1', 'Factor_R_Qurrel_1', 'Factor_R_Needy_1', 'Factor_R_Lost_1', 'Factor_R_Aging_Lonesome_1', 'Factor_R_Working_Environment_1', 'Factor_Alcoholic_0', 'Factor_Alcoholic_1', 'Factor_A_At_Sucide_Attempt_1', 'Factor_Drugs_0', 'Factor_Drugs_1', 'Factor_D_At_Sucide_Attempt_1', 'Factor_Di_Lonesone_0', 'Factor_Di_Lonesone_1', 'Factor_Di_Pain_0', 'Factor_Di_Pain_1', 'Factor_Economic_0', 'Factor_Economic_1', 'Factor_E_Poor_0', 'Factor_E_Poor_1', 'Factor_E_Unemployed_0', 'Factor_E_Unemployed_1', 'Factor_E_Dept_0', 'Factor_E_Dept_1', 'Factor_Others_1']\n",
        "#(General ver 2) ตัด Province, Covid\n",
        "#feature_cols = ['Gender_หญิง', 'Age', 'Status_คู่', 'Status_สมณะ', 'Status_หม้าย', 'Status_หย่า', 'Status_แยก', 'Status_โสด', 'Religion_คริสต์', 'Religion_ซิกข์', 'Religion_บาไฮ', 'Religion_พุทธ', 'Religion_อิสลาม', 'Religion_ไม่นับถือศาสนา', 'WTK_Overdose_1', 'WTK_Insecticide_1', 'WTK_Herbicide_1', 'WTK_Other_Chemicals_1', 'WTK_Sharp_Weapons_1', 'WTK_Guns_1', 'WTK_Jump_Off_Building_1', 'WTK_Hang_1', 'WTK_Jump_Into_Water_1', 'WTK_Ran_Into_Cars_1', 'WTK_Smoke_Gas_1', 'Disease_M_Physcopath_1', 'Disease_M_Depression_1', 'Disease_M_Others_1', 'Disease_P_Diabetes_1', 'Disease_P_HBP_1', 'Disease_P_Cardio_1', 'Disease_P_Kidney_1', 'Disease_P_Liver_1', 'Disease_P_lung_1', 'Disease_P_Migrant_1', 'Disease_P_Joint_1', 'Disease_P_Paralyze_1', 'Disease_P_Cancer_1', 'Disease_P_HIV_1', 'Disease_P_Others_1', 'Time_Group_1', 'Time_Group_2', 'Time_Group_3', 'Time_Group_4', 'Time_Group_5', 'Time_Group_6', 'Month_Group_1', 'Month_Group_2', 'Month_Group_3', 'Month_Group_4', 'Attempt_Year', 'Attempt_Hurt_Others_0', 'Attempt_Hurt_Others_1', 'Attempt_Ever_0', 'Attempt_Ever_1', 'Attempt_To_Die_0', 'Attempt_To_Die_1', 'Attempt_Sign_0', 'Attempt_Sign_1', 'Factor_R_Neglected_1', 'Factor_R_Humuliated_1', 'Factor_R_Jeolous_1', 'Factor_R_Qurrel_1', 'Factor_R_Needy_1', 'Factor_R_Lost_1', 'Factor_R_Aging_Lonesome_1', 'Factor_R_Working_Environment_1', 'Factor_Alcoholic_0', 'Factor_Alcoholic_1', 'Factor_A_At_Sucide_Attempt_1', 'Factor_Drugs_0', 'Factor_Drugs_1', 'Factor_D_At_Sucide_Attempt_1', 'Factor_Di_Lonesone_0', 'Factor_Di_Lonesone_1', 'Factor_Di_Pain_0', 'Factor_Di_Pain_1', 'Factor_Economic_0', 'Factor_Economic_1', 'Factor_E_Poor_0', 'Factor_E_Poor_1', 'Factor_E_Unemployed_0', 'Factor_E_Unemployed_1', 'Factor_E_Dept_0', 'Factor_E_Dept_1', 'Factor_Others_1', 'Disease_P_Direct_COVID_1', 'Disease_P_COVID_1']\n",
        "\n",
        "\n",
        "X = df[feature_cols] # Features\n",
        "y = df.Success # Target variable\n",
        "\n",
        "X_trainandval, X_test, y_trainandval, y_test = train_test_split(X, y,\n",
        "    test_size=0.2 , random_state = 1)\n",
        "X_train, X_val, y_train, y_val = train_test_split(X_trainandval, y_trainandval,\n",
        "    test_size=0.25 , random_state = 1)\n",
        "\n",
        "from sklearn.metrics import accuracy_score, confusion_matrix, classification_report\n",
        "\n",
        "def print_score(clf, X_train, y_train, X_test, y_test, train=True):\n",
        "    if train:\n",
        "        pred = clf.predict(X_train)\n",
        "        clf_report = pd.DataFrame(classification_report(y_train, pred, output_dict=True))\n",
        "        print(\"Train Result:\\n================================================\")\n",
        "        print(f\"Accuracy Score: {accuracy_score(y_train, pred) * 100:.2f}%\")\n",
        "        print(\"_______________________________________________\")\n",
        "        print(f\"CLASSIFICATION REPORT:\\n{clf_report}\")\n",
        "        print(\"_______________________________________________\")\n",
        "        print(f\"Confusion Matrix: \\n {confusion_matrix(y_train, pred)}\\n\")\n",
        "        \n",
        "    elif train==False:\n",
        "        pred = clf.predict(X_test)\n",
        "        clf_report = pd.DataFrame(classification_report(y_test, pred, output_dict=True))\n",
        "        print(\"Test Result:\\n================================================\")        \n",
        "        print(f\"Accuracy Score: {accuracy_score(y_test, pred) * 100:.2f}%\")\n",
        "        print(\"_______________________________________________\")\n",
        "        print(f\"CLASSIFICATION REPORT:\\n{clf_report}\")\n",
        "        print(\"_______________________________________________\")\n",
        "        print(f\"Confusion Matrix: \\n {confusion_matrix(y_test, pred)}\\n\")\n",
        "\n"
      ],
      "metadata": {
        "id": "gWEX63vVUGNW"
      },
      "execution_count": 2,
      "outputs": []
    },
    {
      "cell_type": "code",
      "source": [
        "from sklearn.datasets import make_friedman1\n",
        "from sklearn.feature_selection import RFECV\n",
        "estimator = DecisionTreeClassifier()\n",
        "selector = RFECV(estimator, step=1, cv=5)\n",
        "selector = selector.fit(X, y)\n",
        "selector.support_\n"
      ],
      "metadata": {
        "colab": {
          "base_uri": "https://localhost:8080/"
        },
        "id": "94wxKRZxUNzL",
        "outputId": "c71f53eb-efc6-46d8-b0bb-43dac3263c35"
      },
      "execution_count": 3,
      "outputs": [
        {
          "output_type": "execute_result",
          "data": {
            "text/plain": [
              "array([ True, False, False, False, False, False, False, False, False,\n",
              "       False, False, False, False, False, False, False, False, False,\n",
              "       False, False, False, False, False, False, False, False, False,\n",
              "       False, False, False, False, False, False, False, False, False,\n",
              "       False, False, False, False, False, False, False, False, False,\n",
              "       False, False, False, False, False, False, False, False, False,\n",
              "       False, False, False, False, False, False, False, False, False,\n",
              "       False, False, False, False, False, False, False, False, False,\n",
              "       False, False, False, False, False, False, False, False, False,\n",
              "       False, False, False, False, False, False, False, False, False,\n",
              "       False, False, False, False, False, False, False, False, False,\n",
              "       False, False, False, False, False, False, False, False, False,\n",
              "       False, False, False, False, False, False, False, False,  True,\n",
              "       False, False, False, False, False, False, False, False, False,\n",
              "       False, False, False, False, False, False, False, False, False,\n",
              "       False, False, False, False, False, False, False, False, False,\n",
              "       False, False, False, False, False, False, False, False, False,\n",
              "       False,  True, False, False, False, False, False])"
            ]
          },
          "metadata": {},
          "execution_count": 3
        }
      ]
    },
    {
      "cell_type": "code",
      "source": [
        "for i in range(X.shape[1]):\n",
        "\tprint('Column: %d, Selected %s, Rank: %.3f' % (i, selector.support_[i], selector.ranking_[i]))"
      ],
      "metadata": {
        "colab": {
          "base_uri": "https://localhost:8080/"
        },
        "id": "bBB8sKgaU4bx",
        "outputId": "44dd128e-4300-4bd6-f4e5-a52ab7fd2ca9"
      },
      "execution_count": 4,
      "outputs": [
        {
          "output_type": "stream",
          "name": "stdout",
          "text": [
            "Column: 0, Selected True, Rank: 1.000\n",
            "Column: 1, Selected False, Rank: 2.000\n",
            "Column: 2, Selected False, Rank: 104.000\n",
            "Column: 3, Selected False, Rank: 115.000\n",
            "Column: 4, Selected False, Rank: 97.000\n",
            "Column: 5, Selected False, Rank: 76.000\n",
            "Column: 6, Selected False, Rank: 98.000\n",
            "Column: 7, Selected False, Rank: 49.000\n",
            "Column: 8, Selected False, Rank: 94.000\n",
            "Column: 9, Selected False, Rank: 108.000\n",
            "Column: 10, Selected False, Rank: 84.000\n",
            "Column: 11, Selected False, Rank: 70.000\n",
            "Column: 12, Selected False, Rank: 65.000\n",
            "Column: 13, Selected False, Rank: 58.000\n",
            "Column: 14, Selected False, Rank: 102.000\n",
            "Column: 15, Selected False, Rank: 90.000\n",
            "Column: 16, Selected False, Rank: 116.000\n",
            "Column: 17, Selected False, Rank: 134.000\n",
            "Column: 18, Selected False, Rank: 87.000\n",
            "Column: 19, Selected False, Rank: 21.000\n",
            "Column: 20, Selected False, Rank: 69.000\n",
            "Column: 21, Selected False, Rank: 50.000\n",
            "Column: 22, Selected False, Rank: 44.000\n",
            "Column: 23, Selected False, Rank: 77.000\n",
            "Column: 24, Selected False, Rank: 100.000\n",
            "Column: 25, Selected False, Rank: 62.000\n",
            "Column: 26, Selected False, Rank: 119.000\n",
            "Column: 27, Selected False, Rank: 121.000\n",
            "Column: 28, Selected False, Rank: 103.000\n",
            "Column: 29, Selected False, Rank: 43.000\n",
            "Column: 30, Selected False, Rank: 112.000\n",
            "Column: 31, Selected False, Rank: 60.000\n",
            "Column: 32, Selected False, Rank: 110.000\n",
            "Column: 33, Selected False, Rank: 89.000\n",
            "Column: 34, Selected False, Rank: 64.000\n",
            "Column: 35, Selected False, Rank: 67.000\n",
            "Column: 36, Selected False, Rank: 72.000\n",
            "Column: 37, Selected False, Rank: 86.000\n",
            "Column: 38, Selected False, Rank: 136.000\n",
            "Column: 39, Selected False, Rank: 41.000\n",
            "Column: 40, Selected False, Rank: 88.000\n",
            "Column: 41, Selected False, Rank: 47.000\n",
            "Column: 42, Selected False, Rank: 79.000\n",
            "Column: 43, Selected False, Rank: 68.000\n",
            "Column: 44, Selected False, Rank: 83.000\n",
            "Column: 45, Selected False, Rank: 95.000\n",
            "Column: 46, Selected False, Rank: 39.000\n",
            "Column: 47, Selected False, Rank: 85.000\n",
            "Column: 48, Selected False, Rank: 55.000\n",
            "Column: 49, Selected False, Rank: 78.000\n",
            "Column: 50, Selected False, Rank: 59.000\n",
            "Column: 51, Selected False, Rank: 82.000\n",
            "Column: 52, Selected False, Rank: 75.000\n",
            "Column: 53, Selected False, Rank: 81.000\n",
            "Column: 54, Selected False, Rank: 109.000\n",
            "Column: 55, Selected False, Rank: 46.000\n",
            "Column: 56, Selected False, Rank: 66.000\n",
            "Column: 57, Selected False, Rank: 73.000\n",
            "Column: 58, Selected False, Rank: 33.000\n",
            "Column: 59, Selected False, Rank: 56.000\n",
            "Column: 60, Selected False, Rank: 57.000\n",
            "Column: 61, Selected False, Rank: 135.000\n",
            "Column: 62, Selected False, Rank: 92.000\n",
            "Column: 63, Selected False, Rank: 96.000\n",
            "Column: 64, Selected False, Rank: 80.000\n",
            "Column: 65, Selected False, Rank: 99.000\n",
            "Column: 66, Selected False, Rank: 93.000\n",
            "Column: 67, Selected False, Rank: 141.000\n",
            "Column: 68, Selected False, Rank: 61.000\n",
            "Column: 69, Selected False, Rank: 133.000\n",
            "Column: 70, Selected False, Rank: 91.000\n",
            "Column: 71, Selected False, Rank: 52.000\n",
            "Column: 72, Selected False, Rank: 127.000\n",
            "Column: 73, Selected False, Rank: 63.000\n",
            "Column: 74, Selected False, Rank: 105.000\n",
            "Column: 75, Selected False, Rank: 142.000\n",
            "Column: 76, Selected False, Rank: 144.000\n",
            "Column: 77, Selected False, Rank: 131.000\n",
            "Column: 78, Selected False, Rank: 156.000\n",
            "Column: 79, Selected False, Rank: 14.000\n",
            "Column: 80, Selected False, Rank: 148.000\n",
            "Column: 81, Selected False, Rank: 53.000\n",
            "Column: 82, Selected False, Rank: 45.000\n",
            "Column: 83, Selected False, Rank: 130.000\n",
            "Column: 84, Selected False, Rank: 20.000\n",
            "Column: 85, Selected False, Rank: 124.000\n",
            "Column: 86, Selected False, Rank: 158.000\n",
            "Column: 87, Selected False, Rank: 155.000\n",
            "Column: 88, Selected False, Rank: 51.000\n",
            "Column: 89, Selected False, Rank: 107.000\n",
            "Column: 90, Selected False, Rank: 154.000\n",
            "Column: 91, Selected False, Rank: 30.000\n",
            "Column: 92, Selected False, Rank: 29.000\n",
            "Column: 93, Selected False, Rank: 54.000\n",
            "Column: 94, Selected False, Rank: 113.000\n",
            "Column: 95, Selected False, Rank: 42.000\n",
            "Column: 96, Selected False, Rank: 128.000\n",
            "Column: 97, Selected False, Rank: 143.000\n",
            "Column: 98, Selected False, Rank: 151.000\n",
            "Column: 99, Selected False, Rank: 132.000\n",
            "Column: 100, Selected False, Rank: 147.000\n",
            "Column: 101, Selected False, Rank: 122.000\n",
            "Column: 102, Selected False, Rank: 137.000\n",
            "Column: 103, Selected False, Rank: 126.000\n",
            "Column: 104, Selected False, Rank: 139.000\n",
            "Column: 105, Selected False, Rank: 40.000\n",
            "Column: 106, Selected False, Rank: 35.000\n",
            "Column: 107, Selected False, Rank: 24.000\n",
            "Column: 108, Selected False, Rank: 5.000\n",
            "Column: 109, Selected False, Rank: 13.000\n",
            "Column: 110, Selected False, Rank: 18.000\n",
            "Column: 111, Selected False, Rank: 23.000\n",
            "Column: 112, Selected False, Rank: 26.000\n",
            "Column: 113, Selected False, Rank: 8.000\n",
            "Column: 114, Selected False, Rank: 11.000\n",
            "Column: 115, Selected False, Rank: 4.000\n",
            "Column: 116, Selected True, Rank: 1.000\n",
            "Column: 117, Selected False, Rank: 6.000\n",
            "Column: 118, Selected False, Rank: 25.000\n",
            "Column: 119, Selected False, Rank: 15.000\n",
            "Column: 120, Selected False, Rank: 34.000\n",
            "Column: 121, Selected False, Rank: 10.000\n",
            "Column: 122, Selected False, Rank: 138.000\n",
            "Column: 123, Selected False, Rank: 22.000\n",
            "Column: 124, Selected False, Rank: 19.000\n",
            "Column: 125, Selected False, Rank: 38.000\n",
            "Column: 126, Selected False, Rank: 145.000\n",
            "Column: 127, Selected False, Rank: 140.000\n",
            "Column: 128, Selected False, Rank: 118.000\n",
            "Column: 129, Selected False, Rank: 12.000\n",
            "Column: 130, Selected False, Rank: 28.000\n",
            "Column: 131, Selected False, Rank: 37.000\n",
            "Column: 132, Selected False, Rank: 3.000\n",
            "Column: 133, Selected False, Rank: 123.000\n",
            "Column: 134, Selected False, Rank: 120.000\n",
            "Column: 135, Selected False, Rank: 27.000\n",
            "Column: 136, Selected False, Rank: 111.000\n",
            "Column: 137, Selected False, Rank: 16.000\n",
            "Column: 138, Selected False, Rank: 106.000\n",
            "Column: 139, Selected False, Rank: 48.000\n",
            "Column: 140, Selected False, Rank: 7.000\n",
            "Column: 141, Selected False, Rank: 17.000\n",
            "Column: 142, Selected False, Rank: 101.000\n",
            "Column: 143, Selected False, Rank: 36.000\n",
            "Column: 144, Selected False, Rank: 71.000\n",
            "Column: 145, Selected False, Rank: 32.000\n",
            "Column: 146, Selected False, Rank: 74.000\n",
            "Column: 147, Selected False, Rank: 9.000\n",
            "Column: 148, Selected False, Rank: 157.000\n",
            "Column: 149, Selected False, Rank: 153.000\n",
            "Column: 150, Selected False, Rank: 114.000\n",
            "Column: 151, Selected False, Rank: 152.000\n",
            "Column: 152, Selected False, Rank: 31.000\n",
            "Column: 153, Selected False, Rank: 125.000\n",
            "Column: 154, Selected True, Rank: 1.000\n",
            "Column: 155, Selected False, Rank: 149.000\n",
            "Column: 156, Selected False, Rank: 129.000\n",
            "Column: 157, Selected False, Rank: 150.000\n",
            "Column: 158, Selected False, Rank: 117.000\n",
            "Column: 159, Selected False, Rank: 146.000\n"
          ]
        }
      ]
    }
  ]
}