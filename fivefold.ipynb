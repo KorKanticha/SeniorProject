{
  "nbformat": 4,
  "nbformat_minor": 0,
  "metadata": {
    "colab": {
      "name": "fivefold",
      "provenance": [],
      "authorship_tag": "ABX9TyP5T9HqfAzzkoTJ5CR6H3BP",
      "include_colab_link": true
    },
    "kernelspec": {
      "name": "python3",
      "display_name": "Python 3"
    },
    "language_info": {
      "name": "python"
    }
  },
  "cells": [
    {
      "cell_type": "markdown",
      "metadata": {
        "id": "view-in-github",
        "colab_type": "text"
      },
      "source": [
        "<a href=\"https://colab.research.google.com/github/KorKanticha/SeniorProject/blob/main/fivefold.ipynb\" target=\"_parent\"><img src=\"https://colab.research.google.com/assets/colab-badge.svg\" alt=\"Open In Colab\"/></a>"
      ]
    },
    {
      "cell_type": "markdown",
      "source": [
        "#Import"
      ],
      "metadata": {
        "id": "dRqV32yJXwq0"
      }
    },
    {
      "cell_type": "code",
      "execution_count": 2,
      "metadata": {
        "colab": {
          "base_uri": "https://localhost:8080/"
        },
        "id": "kHOLfbfDTu46",
        "outputId": "ba86f0a7-8c40-42e9-9eb2-cd5dbf32096e"
      },
      "outputs": [
        {
          "output_type": "stream",
          "name": "stdout",
          "text": [
            "Drive already mounted at /content/gdrive; to attempt to forcibly remount, call drive.mount(\"/content/gdrive\", force_remount=True).\n"
          ]
        }
      ],
      "source": [
        "import pandas as pd\n",
        "import numpy as np\n",
        "from sklearn.tree import DecisionTreeClassifier # Import Decision Tree Classifier\n",
        "from sklearn.model_selection import train_test_split # Import train_test_split function\n",
        "from sklearn import metrics #Import scikit-learn metrics module for accuracy calculation\n",
        "from google.colab import drive\n",
        "from sklearn.linear_model import LogisticRegression\n",
        "from sklearn.metrics import confusion_matrix\n",
        "from sklearn.metrics import classification_report\n",
        "drive.mount('/content/gdrive')\n",
        "xls_Suicide = pd.ExcelFile(\"/content/gdrive/MyDrive/SeniorProject_KorBoss/Cleaned_Dummy8.xlsx\")\n",
        "df = dict()\n",
        "df = pd.read_excel(xls_Suicide)\n"
      ]
    },
    {
      "cell_type": "code",
      "source": [
        "#ตัด WTK, attemptToDie,AttemptHurtOthers\n",
        "feature_cols = ['Gender_หญิง', 'Age', 'Province_Happen_11', 'Province_Happen_12', 'Province_Happen_13', 'Province_Happen_14', 'Province_Happen_15', 'Province_Happen_16', 'Province_Happen_17', 'Province_Happen_18', 'Province_Happen_19', 'Province_Happen_20', 'Province_Happen_21', 'Province_Happen_22', 'Province_Happen_23', 'Province_Happen_24', 'Province_Happen_25', 'Province_Happen_26', 'Province_Happen_27', 'Province_Happen_30', 'Province_Happen_31', 'Province_Happen_32', 'Province_Happen_33', 'Province_Happen_34', 'Province_Happen_35', 'Province_Happen_36', 'Province_Happen_37', 'Province_Happen_38', 'Province_Happen_39', 'Province_Happen_40', 'Province_Happen_41', 'Province_Happen_42', 'Province_Happen_43', 'Province_Happen_44', 'Province_Happen_45', 'Province_Happen_46', 'Province_Happen_47', 'Province_Happen_48', 'Province_Happen_49', 'Province_Happen_50', 'Province_Happen_51', 'Province_Happen_52', 'Province_Happen_53', 'Province_Happen_54', 'Province_Happen_55', 'Province_Happen_56', 'Province_Happen_57', 'Province_Happen_58', 'Province_Happen_60', 'Province_Happen_61', 'Province_Happen_62', 'Province_Happen_63', 'Province_Happen_64', 'Province_Happen_65', 'Province_Happen_66', 'Province_Happen_67', 'Province_Happen_70', 'Province_Happen_71', 'Province_Happen_72', 'Province_Happen_73', 'Province_Happen_74', 'Province_Happen_75', 'Province_Happen_76', 'Province_Happen_77', 'Province_Happen_80', 'Province_Happen_81', 'Province_Happen_82', 'Province_Happen_83', 'Province_Happen_84', 'Province_Happen_85', 'Province_Happen_86', 'Province_Happen_90', 'Province_Happen_91', 'Province_Happen_92', 'Province_Happen_93', 'Province_Happen_94', 'Province_Happen_95', 'Province_Happen_96', 'Province_Happen_ต่างประเทศ', 'Status_คู่', 'Status_สมณะ', 'Status_หม้าย', 'Status_หย่า', 'Status_แยก', 'Status_โสด', 'Religion_คริสต์', 'Religion_ซิกข์', 'Religion_บาไฮ', 'Religion_พุทธ', 'Religion_อิสลาม', 'Religion_ไม่นับถือศาสนา', 'Disease_M_Physcopath_1', 'Disease_M_Depression_1', 'Disease_M_Others_1', 'Disease_P_Diabetes_1', 'Disease_P_HBP_1', 'Disease_P_Cardio_1', 'Disease_P_Kidney_1', 'Disease_P_Liver_1', 'Disease_P_lung_1', 'Disease_P_Migrant_1', 'Disease_P_Joint_1', 'Disease_P_Paralyze_1', 'Disease_P_Cancer_1', 'Disease_P_HIV_1', 'Disease_P_Others_1', 'Time_Group_1', 'Time_Group_2', 'Time_Group_3', 'Time_Group_4', 'Time_Group_5', 'Time_Group_6', 'Month_Group_1', 'Month_Group_2', 'Month_Group_3', 'Month_Group_4', 'Attempt_Year', 'Attempt_Ever_0', 'Attempt_Ever_1', 'Attempt_Sign_0', 'Attempt_Sign_1', 'Factor_R_Neglected_1', 'Factor_R_Humuliated_1', 'Factor_R_Jeolous_1', 'Factor_R_Qurrel_1', 'Factor_R_Needy_1', 'Factor_R_Lost_1', 'Factor_R_Aging_Lonesome_1', 'Factor_R_Working_Environment_1', 'Factor_Alcoholic_0', 'Factor_Alcoholic_1', 'Factor_A_At_Sucide_Attempt_1', 'Factor_Drugs_0', 'Factor_Drugs_1', 'Factor_D_At_Sucide_Attempt_1', 'Factor_Di_Lonesone_0', 'Factor_Di_Lonesone_1', 'Factor_Di_Pain_0', 'Factor_Di_Pain_1', 'Factor_Economic_0', 'Factor_Economic_1', 'Factor_E_Poor_0', 'Factor_E_Poor_1', 'Factor_E_Unemployed_0', 'Factor_E_Unemployed_1', 'Factor_E_Dept_0', 'Factor_E_Dept_1', 'Factor_Others_1', 'Disease_P_Direct_COVID_1', 'Disease_P_COVID_1', 'Factor_C_Unemployed_0', 'Factor_C_Unemployed_1', 'Factor_C_Poor_0', 'Factor_C_Poor_1', 'Factor_C_Dept_0', 'Factor_C_Dept_1', 'Factor_C_Mental_0', 'Factor_C_Mental_1', 'Factor_C_Others_0', 'Factor_C_Others_1']\n",
        "#feature_cols = ['Gender_หญิง', 'Age', 'Province_Happen_11', 'Province_Happen_12', 'Province_Happen_13', 'Province_Happen_14', 'Province_Happen_15', 'Province_Happen_16', 'Province_Happen_17', 'Province_Happen_18', 'Province_Happen_19', 'Province_Happen_20', 'Province_Happen_21', 'Province_Happen_22', 'Province_Happen_23', 'Province_Happen_24', 'Province_Happen_25', 'Province_Happen_26', 'Province_Happen_27', 'Province_Happen_30', 'Province_Happen_31', 'Province_Happen_32', 'Province_Happen_33', 'Province_Happen_34', 'Province_Happen_35', 'Province_Happen_36', 'Province_Happen_37', 'Province_Happen_38', 'Province_Happen_39', 'Province_Happen_40', 'Province_Happen_41', 'Province_Happen_42', 'Province_Happen_43', 'Province_Happen_44', 'Province_Happen_45', 'Province_Happen_46', 'Province_Happen_47', 'Province_Happen_48', 'Province_Happen_49', 'Province_Happen_50', 'Province_Happen_51', 'Province_Happen_52', 'Province_Happen_53', 'Province_Happen_54', 'Province_Happen_55', 'Province_Happen_56', 'Province_Happen_57', 'Province_Happen_58', 'Province_Happen_60', 'Province_Happen_61', 'Province_Happen_62', 'Province_Happen_63', 'Province_Happen_64', 'Province_Happen_65', 'Province_Happen_66', 'Province_Happen_67', 'Province_Happen_70', 'Province_Happen_71', 'Province_Happen_72', 'Province_Happen_73', 'Province_Happen_74', 'Province_Happen_75', 'Province_Happen_76', 'Province_Happen_77', 'Province_Happen_80', 'Province_Happen_81', 'Province_Happen_82', 'Province_Happen_83', 'Province_Happen_84', 'Province_Happen_85', 'Province_Happen_86', 'Province_Happen_90', 'Province_Happen_91', 'Province_Happen_92', 'Province_Happen_93', 'Province_Happen_94', 'Province_Happen_95', 'Province_Happen_96', 'Province_Happen_ต่างประเทศ', 'Status_คู่', 'Status_สมณะ', 'Status_หม้าย', 'Status_หย่า', 'Status_แยก', 'Status_โสด', 'Religion_คริสต์', 'Religion_ซิกข์', 'Religion_บาไฮ', 'Religion_พุทธ', 'Religion_อิสลาม', 'Religion_ไม่นับถือศาสนา', 'WTK_Overdose_1', 'WTK_Insecticide_1', 'WTK_Herbicide_1', 'WTK_Other_Chemicals_1', 'WTK_Sharp_Weapons_1', 'WTK_Guns_1', 'WTK_Jump_Off_Building_1', 'WTK_Hang_1', 'WTK_Jump_Into_Water_1', 'WTK_Ran_Into_Cars_1', 'WTK_Smoke_Gas_1', 'Disease_M_Physcopath_1', 'Disease_M_Depression_1', 'Disease_M_Others_1', 'Disease_P_Diabetes_1', 'Disease_P_HBP_1', 'Disease_P_Cardio_1', 'Disease_P_Kidney_1', 'Disease_P_Liver_1', 'Disease_P_lung_1', 'Disease_P_Migrant_1', 'Disease_P_Joint_1', 'Disease_P_Paralyze_1', 'Disease_P_Cancer_1', 'Disease_P_HIV_1', 'Disease_P_Others_1', 'Time_Group_1', 'Time_Group_2', 'Time_Group_3', 'Time_Group_4', 'Time_Group_5', 'Time_Group_6', 'Month_Group_1', 'Month_Group_2', 'Month_Group_3', 'Month_Group_4', 'Attempt_Year', 'Attempt_Hurt_Others_0', 'Attempt_Hurt_Others_1', 'Attempt_Ever_0', 'Attempt_Ever_1', 'Attempt_To_Die_0', 'Attempt_To_Die_1', 'Attempt_Sign_0', 'Attempt_Sign_1', 'Factor_R_Neglected_1', 'Factor_R_Humuliated_1', 'Factor_R_Jeolous_1', 'Factor_R_Qurrel_1', 'Factor_R_Needy_1', 'Factor_R_Lost_1', 'Factor_R_Aging_Lonesome_1', 'Factor_R_Working_Environment_1', 'Factor_Alcoholic_0', 'Factor_Alcoholic_1', 'Factor_A_At_Sucide_Attempt_1', 'Factor_Drugs_0', 'Factor_Drugs_1', 'Factor_D_At_Sucide_Attempt_1', 'Factor_Di_Lonesone_0', 'Factor_Di_Lonesone_1', 'Factor_Di_Pain_0', 'Factor_Di_Pain_1', 'Factor_Economic_0', 'Factor_Economic_1', 'Factor_E_Poor_0', 'Factor_E_Poor_1', 'Factor_E_Unemployed_0', 'Factor_E_Unemployed_1', 'Factor_E_Dept_0', 'Factor_E_Dept_1', 'Factor_Others_1', 'Disease_P_Direct_COVID_1', 'Disease_P_COVID_1', 'Factor_C_Unemployed_0', 'Factor_C_Unemployed_1', 'Factor_C_Poor_0', 'Factor_C_Poor_1', 'Factor_C_Dept_0', 'Factor_C_Dept_1', 'Factor_C_Mental_0', 'Factor_C_Mental_1', 'Factor_C_Others_0', 'Factor_C_Others_1']\n",
        "X = df[feature_cols] # Features\n",
        "y = df.Success # Target variable\n",
        "\n",
        "X_trainandval, X_test, y_trainandval, y_test = train_test_split(X, y,\n",
        "    test_size=0.2 , random_state = 1)\n",
        "X_train, X_val, y_train, y_val = train_test_split(X_trainandval, y_trainandval,\n",
        "    test_size=0.25 , random_state = 1)\n",
        "\n",
        "from sklearn.metrics import accuracy_score, confusion_matrix, classification_report\n",
        "\n",
        "def print_score(clf, X_train, y_train, X_test, y_test, train=True):\n",
        "    if train:\n",
        "        pred = clf.predict(X_train)\n",
        "        clf_report = pd.DataFrame(classification_report(y_train, pred, output_dict=True))\n",
        "        print(\"Train Result:\\n================================================\")\n",
        "        print(f\"Accuracy Score: {accuracy_score(y_train, pred) * 100:.2f}%\")\n",
        "        print(\"_______________________________________________\")\n",
        "        print(f\"CLASSIFICATION REPORT:\\n{clf_report}\")\n",
        "        print(\"_______________________________________________\")\n",
        "        print(f\"Confusion Matrix: \\n {confusion_matrix(y_train, pred)}\\n\")\n",
        "        \n",
        "    elif train==False:\n",
        "        pred = clf.predict(X_test)\n",
        "        clf_report = pd.DataFrame(classification_report(y_test, pred, output_dict=True))\n",
        "        print(\"Test Result:\\n================================================\")        \n",
        "        print(f\"Accuracy Score: {accuracy_score(y_test, pred) * 100:.2f}%\")\n",
        "        print(\"_______________________________________________\")\n",
        "        print(f\"CLASSIFICATION REPORT:\\n{clf_report}\")\n",
        "        print(\"_______________________________________________\")\n",
        "        print(f\"Confusion Matrix: \\n {confusion_matrix(y_test, pred)}\\n\")\n",
        "\n",
        "\n"
      ],
      "metadata": {
        "id": "f1OWr2JzV1h5"
      },
      "execution_count": 3,
      "outputs": []
    },
    {
      "cell_type": "markdown",
      "source": [
        "#SVM"
      ],
      "metadata": {
        "id": "U2IzZhejYIZ6"
      }
    },
    {
      "cell_type": "markdown",
      "source": [
        "## Base\n"
      ],
      "metadata": {
        "id": "9w4hku9kg2wb"
      }
    },
    {
      "cell_type": "code",
      "source": [
        "# import SVC classifier\n",
        "from sklearn.svm import SVC\n",
        "# import metrics to compute accuracy\n",
        "from sklearn.metrics import accuracy_score\n",
        "svc=SVC() \n",
        "svc.fit(scaler.transform(X_train),y_train)\n",
        "y_pred = svc.predict(scaler.transform(X_test))\n",
        "print(svc.score(scaler.transform(X_test),y_test))\n",
        "print(confusion_matrix(y_test, y_pred))\n",
        "print(classification_report(y_test,y_pred))\n",
        "############################################\n",
        "cm = confusion_matrix(y_test, y_pred)\n",
        "print('Confusion matrix\\n\\n', cm)\n",
        "print('\\nTrue Negatives(TN) = ', cm[0,0])\n",
        "print('\\nTrue Positives(TP) = ', cm[1,1])\n",
        "print('\\nFalse Positives(FP) = ', cm[0,1])\n",
        "print('\\nFalse Negatives(FN) = ', cm[1,0])\n",
        "import seaborn as sns\n",
        "cm_matrix = pd.DataFrame(data=cm, columns=['Predict Positive:1', 'Predict Negative:0'], \n",
        "                                 index=['Actual Positive:1', 'Actual Negative:0'])\n",
        "sns_heatmap_svm_base = sns.heatmap(cm_matrix, annot=True, fmt='d', cmap='YlGnBu')"
      ],
      "metadata": {
        "id": "nMHD9Ue9YIA6"
      },
      "execution_count": null,
      "outputs": []
    },
    {
      "cell_type": "markdown",
      "source": [
        "## Linear Kernel"
      ],
      "metadata": {
        "id": "nIP25qDqg4ut"
      }
    },
    {
      "cell_type": "code",
      "source": [
        "# import SVC classifier\n",
        "from sklearn.svm import SVC\n",
        "# import metrics to compute accuracy\n",
        "from sklearn.metrics import accuracy_score\n",
        "svc_linear=SVC(kernel='linear') \n",
        "svc_linear.fit(scaler.transform(X_train),y_train)\n",
        "y_pred = svc_linear.predict(scaler.transform(X_test))\n",
        "print(svc_linear.score(scaler.transform(X_test),y_test))\n",
        "print(confusion_matrix(y_test, y_pred))\n",
        "print(classification_report(y_test,y_pred))\n",
        "############################################\n",
        "cm = confusion_matrix(y_test, y_pred)\n",
        "print('Confusion matrix\\n\\n', cm)\n",
        "print('\\nTrue Negatives(TN) = ', cm[0,0])\n",
        "print('\\nTrue Positives(TP) = ', cm[1,1])\n",
        "print('\\nFalse Positives(FP) = ', cm[0,1])\n",
        "print('\\nFalse Negatives(FN) = ', cm[1,0])\n",
        "import seaborn as sns\n",
        "cm_matrix = pd.DataFrame(data=cm, columns=['Predict Positive:0', 'Predict Negative:1'], \n",
        "                                 index=['Actual Positive:0', 'Actual Negative:1'])\n",
        "sns_heatmap_svm_base = sns.heatmap(cm_matrix, annot=True, fmt='d', cmap='YlGnBu')\n",
        "print(classification_report(y_test,y_pred))"
      ],
      "metadata": {
        "id": "Eo2_bqVsg_gz"
      },
      "execution_count": null,
      "outputs": []
    },
    {
      "cell_type": "markdown",
      "source": [
        "#Decision Tree\n"
      ],
      "metadata": {
        "id": "hnOr9SbuiihD"
      }
    },
    {
      "cell_type": "code",
      "source": [
        "from sklearn.model_selection import KFold\n",
        "import seaborn as sns\n",
        "\n",
        "# ใช้ Kfold ต้องแปลงเป็น numpy\n",
        "X = df[feature_cols].values # Features\n",
        "y = df['Success'].values # Target variable\n",
        "\n",
        "# Split dataset into training set and test set\n",
        "# แบ่งเป็นคแ่ trainandval & test\n",
        "X_trainandval, X_test, y_trainandval, y_test = train_test_split(X, y,\n",
        "    test_size=0.2 , random_state = 1)\n",
        "\n",
        "#แบ่ง trainandval เป็น train, valid 5แบบ แล้วรันโมเดล\n",
        "kf = KFold(n_splits=5, shuffle = True, random_state=1)\n",
        "kf.get_n_splits(X_trainandval)\n",
        "\n",
        "for train_index, valid_index in kf.split(X_trainandval):\n",
        "  print(\"TRAIN:\", train_index, \"VALID\", valid_index)\n",
        "  X_train, X_val = X_trainandval[train_index], X_trainandval[valid_index]\n",
        "  y_train, y_val = y_trainandval[train_index], y_trainandval[valid_index]\n",
        "\n",
        "# Create Decision Tree classifer object\n",
        "  clf = DecisionTreeClassifier(criterion='entropy', max_depth=6)\n",
        "\n",
        "# Train Decision Tree Classifer\n",
        "  clf = clf.fit(X_train,y_train)\n",
        "\n",
        "  y_predval = clf.predict(X_val)\n",
        "\n",
        "  cm = confusion_matrix(y_val, y_predval)\n",
        "  print('Confusion matrix\\n\\n', cm)\n",
        "  print('\\nTrue Negatives(TN) = ', cm[0,0])\n",
        "  print('\\nTrue Positives(TP) = ', cm[1,1])\n",
        "  print('\\nFalse Positives(FP) = ', cm[0,1])\n",
        "  print('\\nFalse Negatives(FN) = ', cm[1,0])\n",
        "\n",
        "  cm_matrix = pd.DataFrame(data=cm, columns=['Predict Positive:0', 'Predict Negative:1'], \n",
        "                                 index=['Actual Positive:0', 'Actual Negative:1'])\n",
        "  sns_heatmap_svm_base = sns.heatmap(cm_matrix, annot=True, fmt='d', cmap='YlGnBu')\n",
        "  print(classification_report(y_val,y_predval))\n",
        "  print_score(clf, X_train, y_train, X_val, y_val, train=False)\n",
        "  #print_score(clf, X_train, y_train, X_val, y_val, train=True)\n"
      ],
      "metadata": {
        "colab": {
          "base_uri": "https://localhost:8080/",
          "height": 1000
        },
        "id": "3so3jRIEioUG",
        "outputId": "b544e16e-3dca-4f25-f1b1-3b61c9fed4a7"
      },
      "execution_count": 41,
      "outputs": [
        {
          "output_type": "stream",
          "name": "stdout",
          "text": [
            "TRAIN: [    0     1     2 ... 39788 39789 39790] VALID [    3     8    11 ... 39774 39776 39781]\n",
            "Confusion matrix\n",
            "\n",
            " [[5221  356]\n",
            " [ 797 1585]]\n",
            "\n",
            "True Negatives(TN) =  5221\n",
            "\n",
            "True Positives(TP) =  1585\n",
            "\n",
            "False Positives(FP) =  356\n",
            "\n",
            "False Negatives(FN) =  797\n",
            "              precision    recall  f1-score   support\n",
            "\n",
            "         0.0       0.87      0.94      0.90      5577\n",
            "         1.0       0.82      0.67      0.73      2382\n",
            "\n",
            "    accuracy                           0.86      7959\n",
            "   macro avg       0.84      0.80      0.82      7959\n",
            "weighted avg       0.85      0.86      0.85      7959\n",
            "\n",
            "Test Result:\n",
            "================================================\n",
            "Accuracy Score: 85.51%\n",
            "_______________________________________________\n",
            "CLASSIFICATION REPORT:\n",
            "                   0.0          1.0  accuracy    macro avg  weighted avg\n",
            "precision     0.867564     0.816589  0.855133     0.842077      0.852308\n",
            "recall        0.936166     0.665407  0.855133     0.800787      0.855133\n",
            "f1-score      0.900561     0.733287  0.855133     0.816924      0.850498\n",
            "support    5577.000000  2382.000000  0.855133  7959.000000   7959.000000\n",
            "_______________________________________________\n",
            "Confusion Matrix: \n",
            " [[5221  356]\n",
            " [ 797 1585]]\n",
            "\n",
            "Train Result:\n",
            "================================================\n",
            "Accuracy Score: 85.86%\n",
            "_______________________________________________\n",
            "CLASSIFICATION REPORT:\n",
            "                    0.0          1.0  accuracy     macro avg  weighted avg\n",
            "precision      0.868400     0.827600  0.858601      0.848000      0.856211\n",
            "recall         0.940955     0.665300  0.858601      0.803127      0.858601\n",
            "f1-score       0.903223     0.737628  0.858601      0.820425      0.853750\n",
            "support    22322.000000  9510.000000  0.858601  31832.000000  31832.000000\n",
            "_______________________________________________\n",
            "Confusion Matrix: \n",
            " [[21004  1318]\n",
            " [ 3183  6327]]\n",
            "\n",
            "TRAIN: [    0     1     3 ... 39785 39788 39789] VALID [    2    10    21 ... 39786 39787 39790]\n",
            "Confusion matrix\n",
            "\n",
            " [[5242  340]\n",
            " [ 790 1586]]\n",
            "\n",
            "True Negatives(TN) =  5242\n",
            "\n",
            "True Positives(TP) =  1586\n",
            "\n",
            "False Positives(FP) =  340\n",
            "\n",
            "False Negatives(FN) =  790\n",
            "              precision    recall  f1-score   support\n",
            "\n",
            "         0.0       0.87      0.94      0.90      5582\n",
            "         1.0       0.82      0.67      0.74      2376\n",
            "\n",
            "    accuracy                           0.86      7958\n",
            "   macro avg       0.85      0.80      0.82      7958\n",
            "weighted avg       0.86      0.86      0.85      7958\n",
            "\n",
            "Test Result:\n",
            "================================================\n",
            "Accuracy Score: 85.80%\n",
            "_______________________________________________\n",
            "CLASSIFICATION REPORT:\n",
            "                   0.0          1.0  accuracy    macro avg  weighted avg\n",
            "precision     0.869032     0.823468  0.858005     0.846250      0.855428\n",
            "recall        0.939090     0.667508  0.858005     0.803299      0.858005\n",
            "f1-score      0.902704     0.737331  0.858005     0.820018      0.853329\n",
            "support    5582.000000  2376.000000  0.858005  7958.000000   7958.000000\n",
            "_______________________________________________\n",
            "Confusion Matrix: \n",
            " [[5242  340]\n",
            " [ 790 1586]]\n",
            "\n",
            "Train Result:\n",
            "================================================\n",
            "Accuracy Score: 85.60%\n",
            "_______________________________________________\n",
            "CLASSIFICATION REPORT:\n",
            "                    0.0          1.0  accuracy     macro avg  weighted avg\n",
            "precision      0.868501     0.817293  0.855998      0.842897      0.853193\n",
            "recall         0.936371     0.667507  0.855998      0.801939      0.855998\n",
            "f1-score       0.901160     0.734845  0.855998      0.818003      0.851443\n",
            "support    22317.000000  9516.000000  0.855998  31833.000000  31833.000000\n",
            "_______________________________________________\n",
            "Confusion Matrix: \n",
            " [[20897  1420]\n",
            " [ 3164  6352]]\n",
            "\n",
            "TRAIN: [    1     2     3 ... 39788 39789 39790] VALID [    0     4     5 ... 39782 39784 39785]\n",
            "Confusion matrix\n",
            "\n",
            " [[5203  367]\n",
            " [ 781 1607]]\n",
            "\n",
            "True Negatives(TN) =  5203\n",
            "\n",
            "True Positives(TP) =  1607\n",
            "\n",
            "False Positives(FP) =  367\n",
            "\n",
            "False Negatives(FN) =  781\n",
            "              precision    recall  f1-score   support\n",
            "\n",
            "         0.0       0.87      0.93      0.90      5570\n",
            "         1.0       0.81      0.67      0.74      2388\n",
            "\n",
            "    accuracy                           0.86      7958\n",
            "   macro avg       0.84      0.80      0.82      7958\n",
            "weighted avg       0.85      0.86      0.85      7958\n",
            "\n",
            "Test Result:\n",
            "================================================\n",
            "Accuracy Score: 85.57%\n",
            "_______________________________________________\n",
            "CLASSIFICATION REPORT:\n",
            "                   0.0          1.0  accuracy    macro avg  weighted avg\n",
            "precision     0.869485     0.814083  0.855743     0.841784      0.852860\n",
            "recall        0.934111     0.672948  0.855743     0.803530      0.855743\n",
            "f1-score      0.900640     0.736818  0.855743     0.818729      0.851481\n",
            "support    5570.000000  2388.000000  0.855743  7958.000000   7958.000000\n",
            "_______________________________________________\n",
            "Confusion Matrix: \n",
            " [[5203  367]\n",
            " [ 781 1607]]\n",
            "\n",
            "Train Result:\n",
            "================================================\n",
            "Accuracy Score: 85.88%\n",
            "_______________________________________________\n",
            "CLASSIFICATION REPORT:\n",
            "                    0.0          1.0  accuracy     macro avg  weighted avg\n",
            "precision      0.869259     0.825787  0.858763      0.847523      0.856280\n",
            "recall         0.940033     0.667824  0.858763      0.803929      0.858763\n",
            "f1-score       0.903262     0.738453  0.858763      0.820857      0.854057\n",
            "support    22329.000000  9504.000000  0.858763  31833.000000  31833.000000\n",
            "_______________________________________________\n",
            "Confusion Matrix: \n",
            " [[20990  1339]\n",
            " [ 3157  6347]]\n",
            "\n",
            "TRAIN: [    0     2     3 ... 39787 39789 39790] VALID [    1    31    50 ... 39766 39768 39788]\n",
            "Confusion matrix\n",
            "\n",
            " [[5289  309]\n",
            " [ 847 1513]]\n",
            "\n",
            "True Negatives(TN) =  5289\n",
            "\n",
            "True Positives(TP) =  1513\n",
            "\n",
            "False Positives(FP) =  309\n",
            "\n",
            "False Negatives(FN) =  847\n",
            "              precision    recall  f1-score   support\n",
            "\n",
            "         0.0       0.86      0.94      0.90      5598\n",
            "         1.0       0.83      0.64      0.72      2360\n",
            "\n",
            "    accuracy                           0.85      7958\n",
            "   macro avg       0.85      0.79      0.81      7958\n",
            "weighted avg       0.85      0.85      0.85      7958\n",
            "\n",
            "Test Result:\n",
            "================================================\n",
            "Accuracy Score: 85.47%\n",
            "_______________________________________________\n",
            "CLASSIFICATION REPORT:\n",
            "                   0.0          1.0  accuracy    macro avg  weighted avg\n",
            "precision     0.861962     0.830406  0.854737     0.846184      0.852604\n",
            "recall        0.944802     0.641102  0.854737     0.792952      0.854737\n",
            "f1-score      0.901483     0.723577  0.854737     0.812530      0.848724\n",
            "support    5598.000000  2360.000000  0.854737  7958.000000   7958.000000\n",
            "_______________________________________________\n",
            "Confusion Matrix: \n",
            " [[5289  309]\n",
            " [ 847 1513]]\n",
            "\n",
            "Train Result:\n",
            "================================================\n",
            "Accuracy Score: 85.60%\n",
            "_______________________________________________\n",
            "CLASSIFICATION REPORT:\n",
            "                    0.0          1.0  accuracy     macro avg  weighted avg\n",
            "precision      0.862711     0.833873  0.855998      0.848292      0.854076\n",
            "recall         0.944801     0.648238  0.855998      0.796519      0.855998\n",
            "f1-score       0.901892     0.729430  0.855998      0.815661      0.850250\n",
            "support    22301.000000  9532.000000  0.855998  31833.000000  31833.000000\n",
            "_______________________________________________\n",
            "Confusion Matrix: \n",
            " [[21070  1231]\n",
            " [ 3353  6179]]\n",
            "\n",
            "TRAIN: [    0     1     2 ... 39787 39788 39790] VALID [    9    14    15 ... 39779 39783 39789]\n",
            "Confusion matrix\n",
            "\n",
            " [[5229  343]\n",
            " [ 826 1560]]\n",
            "\n",
            "True Negatives(TN) =  5229\n",
            "\n",
            "True Positives(TP) =  1560\n",
            "\n",
            "False Positives(FP) =  343\n",
            "\n",
            "False Negatives(FN) =  826\n",
            "              precision    recall  f1-score   support\n",
            "\n",
            "         0.0       0.86      0.94      0.90      5572\n",
            "         1.0       0.82      0.65      0.73      2386\n",
            "\n",
            "    accuracy                           0.85      7958\n",
            "   macro avg       0.84      0.80      0.81      7958\n",
            "weighted avg       0.85      0.85      0.85      7958\n",
            "\n",
            "Test Result:\n",
            "================================================\n",
            "Accuracy Score: 85.31%\n",
            "_______________________________________________\n",
            "CLASSIFICATION REPORT:\n",
            "                   0.0          1.0  accuracy    macro avg  weighted avg\n",
            "precision     0.863584     0.819758  0.853104     0.841671      0.850444\n",
            "recall        0.938442     0.653814  0.853104     0.796128      0.853104\n",
            "f1-score      0.899458     0.727442  0.853104     0.813450      0.847884\n",
            "support    5572.000000  2386.000000  0.853104  7958.000000   7958.000000\n",
            "_______________________________________________\n",
            "Confusion Matrix: \n",
            " [[5229  343]\n",
            " [ 826 1560]]\n",
            "\n",
            "Train Result:\n",
            "================================================\n",
            "Accuracy Score: 85.87%\n",
            "_______________________________________________\n",
            "CLASSIFICATION REPORT:\n",
            "                    0.0          1.0  accuracy     macro avg  weighted avg\n",
            "precision      0.870255     0.822953  0.858732      0.846604      0.856130\n",
            "recall         0.938505     0.671365  0.858732      0.804935      0.858732\n",
            "f1-score       0.903092     0.739470  0.858732      0.821281      0.854231\n",
            "support    22327.000000  9506.000000  0.858732  31833.000000  31833.000000\n",
            "_______________________________________________\n",
            "Confusion Matrix: \n",
            " [[20954  1373]\n",
            " [ 3124  6382]]\n",
            "\n"
          ]
        },
        {
          "output_type": "display_data",
          "data": {
            "image/png": "[encoded data removed]",
            "text/plain": [
              "<Figure size 432x288 with 6 Axes>"
            ]
          },
          "metadata": {
            "needs_background": "light"
          }
        }
      ]
    },
    {
      "cell_type": "code",
      "source": [
        "type(y)"
      ],
      "metadata": {
        "colab": {
          "base_uri": "https://localhost:8080/"
        },
        "id": "WS7850cS9mhM",
        "outputId": "711ded0f-710a-46b3-9127-ae057c916ae0"
      },
      "execution_count": 34,
      "outputs": [
        {
          "output_type": "execute_result",
          "data": {
            "text/plain": [
              "numpy.ndarray"
            ]
          },
          "metadata": {},
          "execution_count": 34
        }
      ]
    },
    {
      "cell_type": "code",
      "source": [
        "\n"
      ],
      "metadata": {
        "id": "KDKF0bespn9P"
      },
      "execution_count": null,
      "outputs": []
    }
  ]
}