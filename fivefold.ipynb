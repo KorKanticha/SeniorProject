{
  "nbformat": 4,
  "nbformat_minor": 0,
  "metadata": {
    "colab": {
      "name": "Copy of fivefold",
      "provenance": [],
      "collapsed_sections": [],
      "include_colab_link": true
    },
    "kernelspec": {
      "name": "python3",
      "display_name": "Python 3"
    },
    "language_info": {
      "name": "python"
    }
  },
  "cells": [
    {
      "cell_type": "markdown",
      "metadata": {
        "id": "view-in-github",
        "colab_type": "text"
      },
      "source": [
        "<a href=\"https://colab.research.google.com/github/KorKanticha/SeniorProject/blob/main/fivefold.ipynb\" target=\"_parent\"><img src=\"https://colab.research.google.com/assets/colab-badge.svg\" alt=\"Open In Colab\"/></a>"
      ]
    },
    {
      "cell_type": "markdown",
      "source": [
        "#Import"
      ],
      "metadata": {
        "id": "dRqV32yJXwq0"
      }
    },
    {
      "cell_type": "code",
      "execution_count": null,
      "metadata": {
        "id": "kHOLfbfDTu46"
      },
      "outputs": [],
      "source": [
        "import pandas as pd\n",
        "import numpy as np\n",
        "from sklearn.tree import DecisionTreeClassifier # Import Decision Tree Classifier\n",
        "from sklearn.model_selection import train_test_split # Import train_test_split function\n",
        "from sklearn import metrics #Import scikit-learn metrics module for accuracy calculation\n",
        "from google.colab import drive\n",
        "from sklearn.linear_model import LogisticRegression\n",
        "from sklearn.metrics import confusion_matrix\n",
        "from sklearn.metrics import classification_report\n",
        "drive.mount('/content/gdrive')\n",
        "xls_Suicide = pd.ExcelFile(\"/content/gdrive/MyDrive/SeniorProject_KorBoss/Cleaned_Dummy8.xlsx\")\n",
        "df = dict()\n",
        "df = pd.read_excel(xls_Suicide)\n"
      ]
    },
    {
      "cell_type": "code",
      "source": [
        "#ตัด WTK, attemptToDie,AttemptHurtOthers\n",
        "feature_cols = ['Gender_หญิง', 'Age', 'Province_Happen_11', 'Province_Happen_12', 'Province_Happen_13', 'Province_Happen_14', 'Province_Happen_15', 'Province_Happen_16', 'Province_Happen_17', 'Province_Happen_18', 'Province_Happen_19', 'Province_Happen_20', 'Province_Happen_21', 'Province_Happen_22', 'Province_Happen_23', 'Province_Happen_24', 'Province_Happen_25', 'Province_Happen_26', 'Province_Happen_27', 'Province_Happen_30', 'Province_Happen_31', 'Province_Happen_32', 'Province_Happen_33', 'Province_Happen_34', 'Province_Happen_35', 'Province_Happen_36', 'Province_Happen_37', 'Province_Happen_38', 'Province_Happen_39', 'Province_Happen_40', 'Province_Happen_41', 'Province_Happen_42', 'Province_Happen_43', 'Province_Happen_44', 'Province_Happen_45', 'Province_Happen_46', 'Province_Happen_47', 'Province_Happen_48', 'Province_Happen_49', 'Province_Happen_50', 'Province_Happen_51', 'Province_Happen_52', 'Province_Happen_53', 'Province_Happen_54', 'Province_Happen_55', 'Province_Happen_56', 'Province_Happen_57', 'Province_Happen_58', 'Province_Happen_60', 'Province_Happen_61', 'Province_Happen_62', 'Province_Happen_63', 'Province_Happen_64', 'Province_Happen_65', 'Province_Happen_66', 'Province_Happen_67', 'Province_Happen_70', 'Province_Happen_71', 'Province_Happen_72', 'Province_Happen_73', 'Province_Happen_74', 'Province_Happen_75', 'Province_Happen_76', 'Province_Happen_77', 'Province_Happen_80', 'Province_Happen_81', 'Province_Happen_82', 'Province_Happen_83', 'Province_Happen_84', 'Province_Happen_85', 'Province_Happen_86', 'Province_Happen_90', 'Province_Happen_91', 'Province_Happen_92', 'Province_Happen_93', 'Province_Happen_94', 'Province_Happen_95', 'Province_Happen_96', 'Province_Happen_ต่างประเทศ', 'Status_คู่', 'Status_สมณะ', 'Status_หม้าย', 'Status_หย่า', 'Status_แยก', 'Status_โสด', 'Religion_คริสต์', 'Religion_ซิกข์', 'Religion_บาไฮ', 'Religion_พุทธ', 'Religion_อิสลาม', 'Religion_ไม่นับถือศาสนา', 'Disease_M_Physcopath_1', 'Disease_M_Depression_1', 'Disease_M_Others_1', 'Disease_P_Diabetes_1', 'Disease_P_HBP_1', 'Disease_P_Cardio_1', 'Disease_P_Kidney_1', 'Disease_P_Liver_1', 'Disease_P_lung_1', 'Disease_P_Migrant_1', 'Disease_P_Joint_1', 'Disease_P_Paralyze_1', 'Disease_P_Cancer_1', 'Disease_P_HIV_1', 'Disease_P_Others_1', 'Time_Group_1', 'Time_Group_2', 'Time_Group_3', 'Time_Group_4', 'Time_Group_5', 'Time_Group_6', 'Month_Group_1', 'Month_Group_2', 'Month_Group_3', 'Month_Group_4', 'Attempt_Year', 'Attempt_Ever_0', 'Attempt_Ever_1', 'Attempt_Sign_0', 'Attempt_Sign_1', 'Factor_R_Neglected_1', 'Factor_R_Humuliated_1', 'Factor_R_Jeolous_1', 'Factor_R_Qurrel_1', 'Factor_R_Needy_1', 'Factor_R_Lost_1', 'Factor_R_Aging_Lonesome_1', 'Factor_R_Working_Environment_1', 'Factor_Alcoholic_0', 'Factor_Alcoholic_1', 'Factor_A_At_Sucide_Attempt_1', 'Factor_Drugs_0', 'Factor_Drugs_1', 'Factor_D_At_Sucide_Attempt_1', 'Factor_Di_Lonesone_0', 'Factor_Di_Lonesone_1', 'Factor_Di_Pain_0', 'Factor_Di_Pain_1', 'Factor_Economic_0', 'Factor_Economic_1', 'Factor_E_Poor_0', 'Factor_E_Poor_1', 'Factor_E_Unemployed_0', 'Factor_E_Unemployed_1', 'Factor_E_Dept_0', 'Factor_E_Dept_1', 'Factor_Others_1', 'Disease_P_Direct_COVID_1', 'Disease_P_COVID_1', 'Factor_C_Unemployed_0', 'Factor_C_Unemployed_1', 'Factor_C_Poor_0', 'Factor_C_Poor_1', 'Factor_C_Dept_0', 'Factor_C_Dept_1', 'Factor_C_Mental_0', 'Factor_C_Mental_1', 'Factor_C_Others_0', 'Factor_C_Others_1']\n",
        "#feature_cols = ['Gender_หญิง', 'Age', 'Province_Happen_11', 'Province_Happen_12', 'Province_Happen_13', 'Province_Happen_14', 'Province_Happen_15', 'Province_Happen_16', 'Province_Happen_17', 'Province_Happen_18', 'Province_Happen_19', 'Province_Happen_20', 'Province_Happen_21', 'Province_Happen_22', 'Province_Happen_23', 'Province_Happen_24', 'Province_Happen_25', 'Province_Happen_26', 'Province_Happen_27', 'Province_Happen_30', 'Province_Happen_31', 'Province_Happen_32', 'Province_Happen_33', 'Province_Happen_34', 'Province_Happen_35', 'Province_Happen_36', 'Province_Happen_37', 'Province_Happen_38', 'Province_Happen_39', 'Province_Happen_40', 'Province_Happen_41', 'Province_Happen_42', 'Province_Happen_43', 'Province_Happen_44', 'Province_Happen_45', 'Province_Happen_46', 'Province_Happen_47', 'Province_Happen_48', 'Province_Happen_49', 'Province_Happen_50', 'Province_Happen_51', 'Province_Happen_52', 'Province_Happen_53', 'Province_Happen_54', 'Province_Happen_55', 'Province_Happen_56', 'Province_Happen_57', 'Province_Happen_58', 'Province_Happen_60', 'Province_Happen_61', 'Province_Happen_62', 'Province_Happen_63', 'Province_Happen_64', 'Province_Happen_65', 'Province_Happen_66', 'Province_Happen_67', 'Province_Happen_70', 'Province_Happen_71', 'Province_Happen_72', 'Province_Happen_73', 'Province_Happen_74', 'Province_Happen_75', 'Province_Happen_76', 'Province_Happen_77', 'Province_Happen_80', 'Province_Happen_81', 'Province_Happen_82', 'Province_Happen_83', 'Province_Happen_84', 'Province_Happen_85', 'Province_Happen_86', 'Province_Happen_90', 'Province_Happen_91', 'Province_Happen_92', 'Province_Happen_93', 'Province_Happen_94', 'Province_Happen_95', 'Province_Happen_96', 'Province_Happen_ต่างประเทศ', 'Status_คู่', 'Status_สมณะ', 'Status_หม้าย', 'Status_หย่า', 'Status_แยก', 'Status_โสด', 'Religion_คริสต์', 'Religion_ซิกข์', 'Religion_บาไฮ', 'Religion_พุทธ', 'Religion_อิสลาม', 'Religion_ไม่นับถือศาสนา', 'WTK_Overdose_1', 'WTK_Insecticide_1', 'WTK_Herbicide_1', 'WTK_Other_Chemicals_1', 'WTK_Sharp_Weapons_1', 'WTK_Guns_1', 'WTK_Jump_Off_Building_1', 'WTK_Hang_1', 'WTK_Jump_Into_Water_1', 'WTK_Ran_Into_Cars_1', 'WTK_Smoke_Gas_1', 'Disease_M_Physcopath_1', 'Disease_M_Depression_1', 'Disease_M_Others_1', 'Disease_P_Diabetes_1', 'Disease_P_HBP_1', 'Disease_P_Cardio_1', 'Disease_P_Kidney_1', 'Disease_P_Liver_1', 'Disease_P_lung_1', 'Disease_P_Migrant_1', 'Disease_P_Joint_1', 'Disease_P_Paralyze_1', 'Disease_P_Cancer_1', 'Disease_P_HIV_1', 'Disease_P_Others_1', 'Time_Group_1', 'Time_Group_2', 'Time_Group_3', 'Time_Group_4', 'Time_Group_5', 'Time_Group_6', 'Month_Group_1', 'Month_Group_2', 'Month_Group_3', 'Month_Group_4', 'Attempt_Year', 'Attempt_Hurt_Others_0', 'Attempt_Hurt_Others_1', 'Attempt_Ever_0', 'Attempt_Ever_1', 'Attempt_To_Die_0', 'Attempt_To_Die_1', 'Attempt_Sign_0', 'Attempt_Sign_1', 'Factor_R_Neglected_1', 'Factor_R_Humuliated_1', 'Factor_R_Jeolous_1', 'Factor_R_Qurrel_1', 'Factor_R_Needy_1', 'Factor_R_Lost_1', 'Factor_R_Aging_Lonesome_1', 'Factor_R_Working_Environment_1', 'Factor_Alcoholic_0', 'Factor_Alcoholic_1', 'Factor_A_At_Sucide_Attempt_1', 'Factor_Drugs_0', 'Factor_Drugs_1', 'Factor_D_At_Sucide_Attempt_1', 'Factor_Di_Lonesone_0', 'Factor_Di_Lonesone_1', 'Factor_Di_Pain_0', 'Factor_Di_Pain_1', 'Factor_Economic_0', 'Factor_Economic_1', 'Factor_E_Poor_0', 'Factor_E_Poor_1', 'Factor_E_Unemployed_0', 'Factor_E_Unemployed_1', 'Factor_E_Dept_0', 'Factor_E_Dept_1', 'Factor_Others_1', 'Disease_P_Direct_COVID_1', 'Disease_P_COVID_1', 'Factor_C_Unemployed_0', 'Factor_C_Unemployed_1', 'Factor_C_Poor_0', 'Factor_C_Poor_1', 'Factor_C_Dept_0', 'Factor_C_Dept_1', 'Factor_C_Mental_0', 'Factor_C_Mental_1', 'Factor_C_Others_0', 'Factor_C_Others_1']\n",
        "X = df[feature_cols] # Features\n",
        "y = df.Success # Target variable\n",
        "\n",
        "X_trainandval, X_test, y_trainandval, y_test = train_test_split(X, y,\n",
        "    test_size=0.2 , random_state = 1)\n",
        "X_train, X_val, y_train, y_val = train_test_split(X_trainandval, y_trainandval,\n",
        "    test_size=0.25 , random_state = 1)\n",
        "\n",
        "from sklearn.metrics import accuracy_score, confusion_matrix, classification_report\n",
        "\n",
        "def print_score(clf, X_train, y_train, X_test, y_test, train=True):\n",
        "    if train:\n",
        "        pred = clf.predict(X_train)\n",
        "        clf_report = pd.DataFrame(classification_report(y_train, pred, output_dict=True))\n",
        "        print(\"Train Result:\\n================================================\")\n",
        "        print(f\"Accuracy Score: {accuracy_score(y_train, pred) * 100:.2f}%\")\n",
        "        print(\"_______________________________________________\")\n",
        "        print(f\"CLASSIFICATION REPORT:\\n{clf_report}\")\n",
        "        print(\"_______________________________________________\")\n",
        "        print(f\"Confusion Matrix: \\n {confusion_matrix(y_train, pred)}\\n\")\n",
        "        \n",
        "    elif train==False:\n",
        "        pred = clf.predict(X_test)\n",
        "        clf_report = pd.DataFrame(classification_report(y_test, pred, output_dict=True))\n",
        "        print(\"Test Result:\\n================================================\")        \n",
        "        print(f\"Accuracy Score: {accuracy_score(y_test, pred) * 100:.2f}%\")\n",
        "        print(\"_______________________________________________\")\n",
        "        print(f\"CLASSIFICATION REPORT:\\n{clf_report}\")\n",
        "        print(\"_______________________________________________\")\n",
        "        print(f\"Confusion Matrix: \\n {confusion_matrix(y_test, pred)}\\n\")\n",
        "\n",
        "\n"
      ],
      "metadata": {
        "id": "f1OWr2JzV1h5"
      },
      "execution_count": null,
      "outputs": []
    },
    {
      "cell_type": "markdown",
      "source": [
        "#SVM"
      ],
      "metadata": {
        "id": "U2IzZhejYIZ6"
      }
    },
    {
      "cell_type": "markdown",
      "source": [
        "## Base\n"
      ],
      "metadata": {
        "id": "9w4hku9kg2wb"
      }
    },
    {
      "cell_type": "code",
      "source": [
        "from sklearn.preprocessing import StandardScaler\n",
        "scaler = StandardScaler()\n",
        "scaler.fit(X_train)\n",
        "# import SVC classifier\n",
        "from sklearn.svm import SVC\n",
        "# import metrics to compute accuracy\n",
        "\n",
        "from sklearn.model_selection import KFold\n",
        "import seaborn as sns\n",
        "from sklearn.metrics import accuracy_score\n",
        "\n",
        "# ใช้ Kfold ต้องแปลงเป็น numpy\n",
        "X = df[feature_cols].values # Features\n",
        "y = df['Success'].values # Target variable\n",
        "\n",
        "# Split dataset into training set and test set\n",
        "# แบ่งเป็นคแ่ trainandval & test\n",
        "X_trainandval, X_test, y_trainandval, y_test = train_test_split(X, y,\n",
        "    test_size=0.2 , random_state = 1)\n",
        "\n",
        "#แบ่ง trainandval เป็น train, valid 5แบบ แล้วรันโมเดล\n",
        "kf = KFold(n_splits=5, shuffle = True, random_state=1)\n",
        "kf.get_n_splits(X_trainandval)\n",
        "svc=SVC() \n",
        "for train_index, valid_index in kf.split(X_trainandval):\n",
        "  print(\"TRAIN:\", train_index, \"VALID\", valid_index)\n",
        "  X_train, X_val = X_trainandval[train_index], X_trainandval[valid_index]\n",
        "  y_train, y_val = y_trainandval[train_index], y_trainandval[valid_index]\n",
        "  \n",
        "  svc.fit(scaler.transform(X_train),y_train)\n",
        "  y_predval = svc.predict(scaler.transform(X_val))\n",
        "  print(svc.score(scaler.transform(X_val),y_val))\n",
        "  print(confusion_matrix(y_val, y_predval))\n",
        "  print(classification_report(y_val,y_predval))\n",
        "\n",
        "  print_score(svc,scaler.transform(X_train), y_train, scaler.transform(X_val), y_val, train=False)\n",
        "  print_score(svc, scaler.transform(X_train), y_train,scaler.transform(X_val), y_val, train=True)\n",
        "############################################\n",
        "  cm = confusion_matrix(y_val, y_predval)\n",
        "  print('Confusion matrix\\n\\n', cm)\n",
        "  print('\\nTrue Negatives(TN) = ', cm[0,0])\n",
        "  print('\\nTrue Positives(TP) = ', cm[1,1])\n",
        "  print('\\nFalse Positives(FP) = ', cm[0,1])\n",
        "  print('\\nFalse Negatives(FN) = ', cm[1,0])\n",
        "\n",
        "cm_matrix = pd.DataFrame(data=cm, columns=['Predict Positive:1', 'Predict Negative:0'], \n",
        "                                 index=['Actual Positive:1', 'Actual Negative:0'])\n",
        "sns_heatmap_svm_base = sns.heatmap(cm_matrix, annot=True, fmt='d', cmap='YlGnBu')"
      ],
      "metadata": {
        "colab": {
          "base_uri": "https://localhost:8080/",
          "height": 1000
        },
        "id": "nMHD9Ue9YIA6",
        "outputId": "4cb48033-ef97-4668-a9db-dcd7e8977ac9"
      },
      "execution_count": null,
      "outputs": [
        {
          "output_type": "stream",
          "name": "stdout",
          "text": [
            "TRAIN: [    0     1     2 ... 39788 39789 39790] VALID [    3     8    11 ... 39774 39776 39781]\n"
          ]
        },
        {
          "output_type": "stream",
          "name": "stderr",
          "text": [
            "/usr/local/lib/python3.7/dist-packages/sklearn/base.py:451: UserWarning: X does not have valid feature names, but StandardScaler was fitted with feature names\n",
            "  \"X does not have valid feature names, but\"\n",
            "/usr/local/lib/python3.7/dist-packages/sklearn/base.py:451: UserWarning: X does not have valid feature names, but StandardScaler was fitted with feature names\n",
            "  \"X does not have valid feature names, but\"\n",
            "/usr/local/lib/python3.7/dist-packages/sklearn/base.py:451: UserWarning: X does not have valid feature names, but StandardScaler was fitted with feature names\n",
            "  \"X does not have valid feature names, but\"\n"
          ]
        },
        {
          "output_type": "stream",
          "name": "stdout",
          "text": [
            "0.9581605729362985\n",
            "[[5429  148]\n",
            " [ 185 2197]]\n",
            "              precision    recall  f1-score   support\n",
            "\n",
            "         0.0       0.97      0.97      0.97      5577\n",
            "         1.0       0.94      0.92      0.93      2382\n",
            "\n",
            "    accuracy                           0.96      7959\n",
            "   macro avg       0.95      0.95      0.95      7959\n",
            "weighted avg       0.96      0.96      0.96      7959\n",
            "\n"
          ]
        },
        {
          "output_type": "stream",
          "name": "stderr",
          "text": [
            "/usr/local/lib/python3.7/dist-packages/sklearn/base.py:451: UserWarning: X does not have valid feature names, but StandardScaler was fitted with feature names\n",
            "  \"X does not have valid feature names, but\"\n",
            "/usr/local/lib/python3.7/dist-packages/sklearn/base.py:451: UserWarning: X does not have valid feature names, but StandardScaler was fitted with feature names\n",
            "  \"X does not have valid feature names, but\"\n"
          ]
        },
        {
          "output_type": "stream",
          "name": "stdout",
          "text": [
            "Test Result:\n",
            "================================================\n",
            "Accuracy Score: 95.82%\n",
            "_______________________________________________\n",
            "CLASSIFICATION REPORT:\n",
            "                   0.0          1.0  accuracy    macro avg  weighted avg\n",
            "precision     0.967047     0.936887  0.958161     0.951967      0.958020\n",
            "recall        0.973462     0.922334  0.958161     0.947898      0.958161\n",
            "f1-score      0.970244     0.929554  0.958161     0.949899      0.958066\n",
            "support    5577.000000  2382.000000  0.958161  7959.000000   7959.000000\n",
            "_______________________________________________\n",
            "Confusion Matrix: \n",
            " [[5429  148]\n",
            " [ 185 2197]]\n",
            "\n"
          ]
        },
        {
          "output_type": "stream",
          "name": "stderr",
          "text": [
            "/usr/local/lib/python3.7/dist-packages/sklearn/base.py:451: UserWarning: X does not have valid feature names, but StandardScaler was fitted with feature names\n",
            "  \"X does not have valid feature names, but\"\n",
            "/usr/local/lib/python3.7/dist-packages/sklearn/base.py:451: UserWarning: X does not have valid feature names, but StandardScaler was fitted with feature names\n",
            "  \"X does not have valid feature names, but\"\n"
          ]
        },
        {
          "output_type": "stream",
          "name": "stdout",
          "text": [
            "Train Result:\n",
            "================================================\n",
            "Accuracy Score: 97.56%\n",
            "_______________________________________________\n",
            "CLASSIFICATION REPORT:\n",
            "                    0.0          1.0  accuracy     macro avg  weighted avg\n",
            "precision      0.982013     0.960456  0.975591      0.971234      0.975572\n",
            "recall         0.983200     0.957729  0.975591      0.970465      0.975591\n",
            "f1-score       0.982606     0.959090  0.975591      0.970848      0.975581\n",
            "support    22322.000000  9510.000000  0.975591  31832.000000  31832.000000\n",
            "_______________________________________________\n",
            "Confusion Matrix: \n",
            " [[21947   375]\n",
            " [  402  9108]]\n",
            "\n",
            "Confusion matrix\n",
            "\n",
            " [[5429  148]\n",
            " [ 185 2197]]\n",
            "\n",
            "True Negatives(TN) =  5429\n",
            "\n",
            "True Positives(TP) =  2197\n",
            "\n",
            "False Positives(FP) =  148\n",
            "\n",
            "False Negatives(FN) =  185\n",
            "TRAIN: [    0     1     3 ... 39785 39788 39789] VALID [    2    10    21 ... 39786 39787 39790]\n"
          ]
        },
        {
          "output_type": "stream",
          "name": "stderr",
          "text": [
            "/usr/local/lib/python3.7/dist-packages/sklearn/base.py:451: UserWarning: X does not have valid feature names, but StandardScaler was fitted with feature names\n",
            "  \"X does not have valid feature names, but\"\n",
            "/usr/local/lib/python3.7/dist-packages/sklearn/base.py:451: UserWarning: X does not have valid feature names, but StandardScaler was fitted with feature names\n",
            "  \"X does not have valid feature names, but\"\n",
            "/usr/local/lib/python3.7/dist-packages/sklearn/base.py:451: UserWarning: X does not have valid feature names, but StandardScaler was fitted with feature names\n",
            "  \"X does not have valid feature names, but\"\n"
          ]
        },
        {
          "output_type": "stream",
          "name": "stdout",
          "text": [
            "0.953757225433526\n",
            "[[5435  147]\n",
            " [ 221 2155]]\n",
            "              precision    recall  f1-score   support\n",
            "\n",
            "         0.0       0.96      0.97      0.97      5582\n",
            "         1.0       0.94      0.91      0.92      2376\n",
            "\n",
            "    accuracy                           0.95      7958\n",
            "   macro avg       0.95      0.94      0.94      7958\n",
            "weighted avg       0.95      0.95      0.95      7958\n",
            "\n"
          ]
        },
        {
          "output_type": "stream",
          "name": "stderr",
          "text": [
            "/usr/local/lib/python3.7/dist-packages/sklearn/base.py:451: UserWarning: X does not have valid feature names, but StandardScaler was fitted with feature names\n",
            "  \"X does not have valid feature names, but\"\n",
            "/usr/local/lib/python3.7/dist-packages/sklearn/base.py:451: UserWarning: X does not have valid feature names, but StandardScaler was fitted with feature names\n",
            "  \"X does not have valid feature names, but\"\n"
          ]
        },
        {
          "output_type": "stream",
          "name": "stdout",
          "text": [
            "Test Result:\n",
            "================================================\n",
            "Accuracy Score: 95.38%\n",
            "_______________________________________________\n",
            "CLASSIFICATION REPORT:\n",
            "                   0.0          1.0  accuracy    macro avg  weighted avg\n",
            "precision     0.960926     0.936142  0.953757     0.948534      0.953527\n",
            "recall        0.973665     0.906987  0.953757     0.940326      0.953757\n",
            "f1-score      0.967254     0.921334  0.953757     0.944294      0.953544\n",
            "support    5582.000000  2376.000000  0.953757  7958.000000   7958.000000\n",
            "_______________________________________________\n",
            "Confusion Matrix: \n",
            " [[5435  147]\n",
            " [ 221 2155]]\n",
            "\n"
          ]
        },
        {
          "output_type": "stream",
          "name": "stderr",
          "text": [
            "/usr/local/lib/python3.7/dist-packages/sklearn/base.py:451: UserWarning: X does not have valid feature names, but StandardScaler was fitted with feature names\n",
            "  \"X does not have valid feature names, but\"\n",
            "/usr/local/lib/python3.7/dist-packages/sklearn/base.py:451: UserWarning: X does not have valid feature names, but StandardScaler was fitted with feature names\n",
            "  \"X does not have valid feature names, but\"\n"
          ]
        },
        {
          "output_type": "stream",
          "name": "stdout",
          "text": [
            "Train Result:\n",
            "================================================\n",
            "Accuracy Score: 97.64%\n",
            "_______________________________________________\n",
            "CLASSIFICATION REPORT:\n",
            "                    0.0          1.0  accuracy     macro avg  weighted avg\n",
            "precision      0.982806     0.961364  0.976408      0.972085      0.976397\n",
            "recall         0.983555     0.959647  0.976408      0.971601      0.976408\n",
            "f1-score       0.983181     0.960505  0.976408      0.971843      0.976402\n",
            "support    22317.000000  9516.000000  0.976408  31833.000000  31833.000000\n",
            "_______________________________________________\n",
            "Confusion Matrix: \n",
            " [[21950   367]\n",
            " [  384  9132]]\n",
            "\n",
            "Confusion matrix\n",
            "\n",
            " [[5435  147]\n",
            " [ 221 2155]]\n",
            "\n",
            "True Negatives(TN) =  5435\n",
            "\n",
            "True Positives(TP) =  2155\n",
            "\n",
            "False Positives(FP) =  147\n",
            "\n",
            "False Negatives(FN) =  221\n",
            "TRAIN: [    1     2     3 ... 39788 39789 39790] VALID [    0     4     5 ... 39782 39784 39785]\n"
          ]
        },
        {
          "output_type": "stream",
          "name": "stderr",
          "text": [
            "/usr/local/lib/python3.7/dist-packages/sklearn/base.py:451: UserWarning: X does not have valid feature names, but StandardScaler was fitted with feature names\n",
            "  \"X does not have valid feature names, but\"\n",
            "/usr/local/lib/python3.7/dist-packages/sklearn/base.py:451: UserWarning: X does not have valid feature names, but StandardScaler was fitted with feature names\n",
            "  \"X does not have valid feature names, but\"\n",
            "/usr/local/lib/python3.7/dist-packages/sklearn/base.py:451: UserWarning: X does not have valid feature names, but StandardScaler was fitted with feature names\n",
            "  \"X does not have valid feature names, but\"\n"
          ]
        },
        {
          "output_type": "stream",
          "name": "stdout",
          "text": [
            "0.9532545865795427\n",
            "[[5426  144]\n",
            " [ 228 2160]]\n",
            "              precision    recall  f1-score   support\n",
            "\n",
            "         0.0       0.96      0.97      0.97      5570\n",
            "         1.0       0.94      0.90      0.92      2388\n",
            "\n",
            "    accuracy                           0.95      7958\n",
            "   macro avg       0.95      0.94      0.94      7958\n",
            "weighted avg       0.95      0.95      0.95      7958\n",
            "\n"
          ]
        },
        {
          "output_type": "stream",
          "name": "stderr",
          "text": [
            "/usr/local/lib/python3.7/dist-packages/sklearn/base.py:451: UserWarning: X does not have valid feature names, but StandardScaler was fitted with feature names\n",
            "  \"X does not have valid feature names, but\"\n",
            "/usr/local/lib/python3.7/dist-packages/sklearn/base.py:451: UserWarning: X does not have valid feature names, but StandardScaler was fitted with feature names\n",
            "  \"X does not have valid feature names, but\"\n"
          ]
        },
        {
          "output_type": "stream",
          "name": "stdout",
          "text": [
            "Test Result:\n",
            "================================================\n",
            "Accuracy Score: 95.33%\n",
            "_______________________________________________\n",
            "CLASSIFICATION REPORT:\n",
            "                   0.0          1.0  accuracy    macro avg  weighted avg\n",
            "precision     0.959675     0.937500  0.953255     0.948587      0.953021\n",
            "recall        0.974147     0.904523  0.953255     0.939335      0.953255\n",
            "f1-score      0.966857     0.920716  0.953255     0.943786      0.953011\n",
            "support    5570.000000  2388.000000  0.953255  7958.000000   7958.000000\n",
            "_______________________________________________\n",
            "Confusion Matrix: \n",
            " [[5426  144]\n",
            " [ 228 2160]]\n",
            "\n"
          ]
        },
        {
          "output_type": "stream",
          "name": "stderr",
          "text": [
            "/usr/local/lib/python3.7/dist-packages/sklearn/base.py:451: UserWarning: X does not have valid feature names, but StandardScaler was fitted with feature names\n",
            "  \"X does not have valid feature names, but\"\n",
            "/usr/local/lib/python3.7/dist-packages/sklearn/base.py:451: UserWarning: X does not have valid feature names, but StandardScaler was fitted with feature names\n",
            "  \"X does not have valid feature names, but\"\n"
          ]
        },
        {
          "output_type": "stream",
          "name": "stdout",
          "text": [
            "Train Result:\n",
            "================================================\n",
            "Accuracy Score: 97.55%\n",
            "_______________________________________________\n",
            "CLASSIFICATION REPORT:\n",
            "                    0.0          1.0  accuracy     macro avg  weighted avg\n",
            "precision      0.981799     0.960511  0.975466      0.971155      0.975444\n",
            "recall         0.983250     0.957176  0.975466      0.970213      0.975466\n",
            "f1-score       0.982524     0.958841  0.975466      0.970683      0.975453\n",
            "support    22329.000000  9504.000000  0.975466  31833.000000  31833.000000\n",
            "_______________________________________________\n",
            "Confusion Matrix: \n",
            " [[21955   374]\n",
            " [  407  9097]]\n",
            "\n",
            "Confusion matrix\n",
            "\n",
            " [[5426  144]\n",
            " [ 228 2160]]\n",
            "\n",
            "True Negatives(TN) =  5426\n",
            "\n",
            "True Positives(TP) =  2160\n",
            "\n",
            "False Positives(FP) =  144\n",
            "\n",
            "False Negatives(FN) =  228\n",
            "TRAIN: [    0     2     3 ... 39787 39789 39790] VALID [    1    31    50 ... 39766 39768 39788]\n"
          ]
        },
        {
          "output_type": "stream",
          "name": "stderr",
          "text": [
            "/usr/local/lib/python3.7/dist-packages/sklearn/base.py:451: UserWarning: X does not have valid feature names, but StandardScaler was fitted with feature names\n",
            "  \"X does not have valid feature names, but\"\n",
            "/usr/local/lib/python3.7/dist-packages/sklearn/base.py:451: UserWarning: X does not have valid feature names, but StandardScaler was fitted with feature names\n",
            "  \"X does not have valid feature names, but\"\n",
            "/usr/local/lib/python3.7/dist-packages/sklearn/base.py:451: UserWarning: X does not have valid feature names, but StandardScaler was fitted with feature names\n",
            "  \"X does not have valid feature names, but\"\n"
          ]
        },
        {
          "output_type": "stream",
          "name": "stdout",
          "text": [
            "0.9590349334003518\n",
            "[[5473  125]\n",
            " [ 201 2159]]\n",
            "              precision    recall  f1-score   support\n",
            "\n",
            "         0.0       0.96      0.98      0.97      5598\n",
            "         1.0       0.95      0.91      0.93      2360\n",
            "\n",
            "    accuracy                           0.96      7958\n",
            "   macro avg       0.95      0.95      0.95      7958\n",
            "weighted avg       0.96      0.96      0.96      7958\n",
            "\n"
          ]
        },
        {
          "output_type": "stream",
          "name": "stderr",
          "text": [
            "/usr/local/lib/python3.7/dist-packages/sklearn/base.py:451: UserWarning: X does not have valid feature names, but StandardScaler was fitted with feature names\n",
            "  \"X does not have valid feature names, but\"\n",
            "/usr/local/lib/python3.7/dist-packages/sklearn/base.py:451: UserWarning: X does not have valid feature names, but StandardScaler was fitted with feature names\n",
            "  \"X does not have valid feature names, but\"\n"
          ]
        },
        {
          "output_type": "stream",
          "name": "stdout",
          "text": [
            "Test Result:\n",
            "================================================\n",
            "Accuracy Score: 95.90%\n",
            "_______________________________________________\n",
            "CLASSIFICATION REPORT:\n",
            "                   0.0          1.0  accuracy    macro avg  weighted avg\n",
            "precision     0.964575     0.945271  0.959035     0.954923      0.958851\n",
            "recall        0.977671     0.914831  0.959035     0.946251      0.959035\n",
            "f1-score      0.971079     0.929802  0.959035     0.950440      0.958838\n",
            "support    5598.000000  2360.000000  0.959035  7958.000000   7958.000000\n",
            "_______________________________________________\n",
            "Confusion Matrix: \n",
            " [[5473  125]\n",
            " [ 201 2159]]\n",
            "\n"
          ]
        },
        {
          "output_type": "stream",
          "name": "stderr",
          "text": [
            "/usr/local/lib/python3.7/dist-packages/sklearn/base.py:451: UserWarning: X does not have valid feature names, but StandardScaler was fitted with feature names\n",
            "  \"X does not have valid feature names, but\"\n",
            "/usr/local/lib/python3.7/dist-packages/sklearn/base.py:451: UserWarning: X does not have valid feature names, but StandardScaler was fitted with feature names\n",
            "  \"X does not have valid feature names, but\"\n"
          ]
        },
        {
          "output_type": "stream",
          "name": "stdout",
          "text": [
            "Train Result:\n",
            "================================================\n",
            "Accuracy Score: 97.49%\n",
            "_______________________________________________\n",
            "CLASSIFICATION REPORT:\n",
            "                    0.0          1.0  accuracy     macro avg  weighted avg\n",
            "precision      0.982108     0.958040    0.9749      0.970074      0.974901\n",
            "recall         0.982064     0.958141    0.9749      0.970102      0.974900\n",
            "f1-score       0.982086     0.958091    0.9749      0.970088      0.974901\n",
            "support    22301.000000  9532.000000    0.9749  31833.000000  31833.000000\n",
            "_______________________________________________\n",
            "Confusion Matrix: \n",
            " [[21901   400]\n",
            " [  399  9133]]\n",
            "\n",
            "Confusion matrix\n",
            "\n",
            " [[5473  125]\n",
            " [ 201 2159]]\n",
            "\n",
            "True Negatives(TN) =  5473\n",
            "\n",
            "True Positives(TP) =  2159\n",
            "\n",
            "False Positives(FP) =  125\n",
            "\n",
            "False Negatives(FN) =  201\n",
            "TRAIN: [    0     1     2 ... 39787 39788 39790] VALID [    9    14    15 ... 39779 39783 39789]\n"
          ]
        },
        {
          "output_type": "stream",
          "name": "stderr",
          "text": [
            "/usr/local/lib/python3.7/dist-packages/sklearn/base.py:451: UserWarning: X does not have valid feature names, but StandardScaler was fitted with feature names\n",
            "  \"X does not have valid feature names, but\"\n",
            "/usr/local/lib/python3.7/dist-packages/sklearn/base.py:451: UserWarning: X does not have valid feature names, but StandardScaler was fitted with feature names\n",
            "  \"X does not have valid feature names, but\"\n",
            "/usr/local/lib/python3.7/dist-packages/sklearn/base.py:451: UserWarning: X does not have valid feature names, but StandardScaler was fitted with feature names\n",
            "  \"X does not have valid feature names, but\"\n"
          ]
        },
        {
          "output_type": "stream",
          "name": "stdout",
          "text": [
            "0.9517466700175924\n",
            "[[5419  153]\n",
            " [ 231 2155]]\n",
            "              precision    recall  f1-score   support\n",
            "\n",
            "         0.0       0.96      0.97      0.97      5572\n",
            "         1.0       0.93      0.90      0.92      2386\n",
            "\n",
            "    accuracy                           0.95      7958\n",
            "   macro avg       0.95      0.94      0.94      7958\n",
            "weighted avg       0.95      0.95      0.95      7958\n",
            "\n"
          ]
        },
        {
          "output_type": "stream",
          "name": "stderr",
          "text": [
            "/usr/local/lib/python3.7/dist-packages/sklearn/base.py:451: UserWarning: X does not have valid feature names, but StandardScaler was fitted with feature names\n",
            "  \"X does not have valid feature names, but\"\n",
            "/usr/local/lib/python3.7/dist-packages/sklearn/base.py:451: UserWarning: X does not have valid feature names, but StandardScaler was fitted with feature names\n",
            "  \"X does not have valid feature names, but\"\n"
          ]
        },
        {
          "output_type": "stream",
          "name": "stdout",
          "text": [
            "Test Result:\n",
            "================================================\n",
            "Accuracy Score: 95.17%\n",
            "_______________________________________________\n",
            "CLASSIFICATION REPORT:\n",
            "                   0.0          1.0  accuracy    macro avg  weighted avg\n",
            "precision     0.959115     0.933709  0.951747     0.946412      0.951498\n",
            "recall        0.972541     0.903185  0.951747     0.937863      0.951747\n",
            "f1-score      0.965782     0.918193  0.951747     0.941987      0.951513\n",
            "support    5572.000000  2386.000000  0.951747  7958.000000   7958.000000\n",
            "_______________________________________________\n",
            "Confusion Matrix: \n",
            " [[5419  153]\n",
            " [ 231 2155]]\n",
            "\n"
          ]
        },
        {
          "output_type": "stream",
          "name": "stderr",
          "text": [
            "/usr/local/lib/python3.7/dist-packages/sklearn/base.py:451: UserWarning: X does not have valid feature names, but StandardScaler was fitted with feature names\n",
            "  \"X does not have valid feature names, but\"\n",
            "/usr/local/lib/python3.7/dist-packages/sklearn/base.py:451: UserWarning: X does not have valid feature names, but StandardScaler was fitted with feature names\n",
            "  \"X does not have valid feature names, but\"\n"
          ]
        },
        {
          "output_type": "stream",
          "name": "stdout",
          "text": [
            "Train Result:\n",
            "================================================\n",
            "Accuracy Score: 97.67%\n",
            "_______________________________________________\n",
            "CLASSIFICATION REPORT:\n",
            "                    0.0          1.0  accuracy     macro avg  weighted avg\n",
            "precision      0.982778     0.962334  0.976691      0.972556      0.976673\n",
            "recall         0.984010     0.959499  0.976691      0.971755      0.976691\n",
            "f1-score       0.983394     0.960914  0.976691      0.972154      0.976681\n",
            "support    22327.000000  9506.000000  0.976691  31833.000000  31833.000000\n",
            "_______________________________________________\n",
            "Confusion Matrix: \n",
            " [[21970   357]\n",
            " [  385  9121]]\n",
            "\n",
            "Confusion matrix\n",
            "\n",
            " [[5419  153]\n",
            " [ 231 2155]]\n",
            "\n",
            "True Negatives(TN) =  5419\n",
            "\n",
            "True Positives(TP) =  2155\n",
            "\n",
            "False Positives(FP) =  153\n",
            "\n",
            "False Negatives(FN) =  231\n"
          ]
        },
        {
          "output_type": "display_data",
          "data": {
            "image/png": "[encoded data removed]",
            "text/plain": [
              "<Figure size 432x288 with 2 Axes>"
            ]
          },
          "metadata": {
            "needs_background": "light"
          }
        }
      ]
    },
    {
      "cell_type": "code",
      "source": [
        "X_train, X_test, y_train, y_test = train_test_split(X, y,\n",
        "    test_size=0.2 , random_state = 1)\n",
        "\n",
        "from sklearn.preprocessing import StandardScaler\n",
        "scaler = StandardScaler()\n",
        "scaler.fit(X_train)\n",
        "\n",
        "from sklearn.model_selection import GridSearchCV\n",
        "from sklearn.svm import SVC\n",
        "from sklearn.preprocessing import StandardScaler\n",
        "\n",
        "\n",
        "svc_linear=SVC(kernel='linear') \n",
        "\n",
        "\n",
        "C = [0.001,0.1,1,10, 100]\n",
        "\n",
        "param_grid = dict(C=C)\n",
        "\n",
        "svc_linear = GridSearchCV(estimator=svc_linear, param_grid=param_grid, scoring='recall',\n",
        "                    verbose=1, n_jobs=-1, cv=5)\n",
        "svc_linear.fit(scaler.transform(X_train), y_train)\n",
        "best_params = svc_linear.best_params_\n",
        "total_result = svc_linear.cv_results_\n",
        "print(f\"Best parameters: {best_params}\")\n",
        "print(f\"Total Result: {total_result}\")\n",
        "\n",
        "svc_linear = SVC(kernel='linear', **best_params)\n",
        "svc_linear.fit(scaler.transform(X_train), y_train)\n",
        "\n",
        "print_score(svc_linear, scaler.transform(X_train), y_train, scaler.transform(X_test), y_test, train=True)\n",
        "print_score(svc_linear, scaler.transform(X_train), y_train, scaler.transform(X_test), y_test, train=False)"
      ],
      "metadata": {
        "colab": {
          "base_uri": "https://localhost:8080/"
        },
        "id": "OKqYwMohszGH",
        "outputId": "05bb65a9-3808-4164-bc2e-b594fe12e6ce"
      },
      "execution_count": null,
      "outputs": [
        {
          "output_type": "stream",
          "name": "stdout",
          "text": [
            "Fitting 5 folds for each of 5 candidates, totalling 25 fits\n"
          ]
        }
      ]
    },
    {
      "cell_type": "markdown",
      "source": [
        "## Linear Kernel"
      ],
      "metadata": {
        "id": "nIP25qDqg4ut"
      }
    },
    {
      "cell_type": "code",
      "source": [
        "# import SVC classifier\n",
        "from sklearn.svm import SVC\n",
        "# import metrics to compute accuracy\n",
        "from sklearn.metrics import accuracy_score\n",
        "svc_linear=SVC(kernel='linear') \n",
        "\n",
        "\n",
        "# ใช้ Kfold ต้องแปลงเป็น numpy\n",
        "X = df[feature_cols].values # Features\n",
        "y = df['Success'].values # Target variable\n",
        "\n",
        "# Split dataset into training set and test set\n",
        "# แบ่งเป็นคแ่ trainandval & test\n",
        "X_trainandval, X_test, y_trainandval, y_test = train_test_split(X, y,\n",
        "    test_size=0.2 , random_state = 1)\n",
        "\n",
        "#แบ่ง trainandval เป็น train, valid 5แบบ แล้วรันโมเดล\n",
        "kf = KFold(n_splits=5, shuffle = True, random_state=1)\n",
        "kf.get_n_splits(X_trainandval)\n",
        "svc=SVC() \n",
        "for train_index, valid_index in kf.split(X_trainandval):\n",
        "  print(\"TRAIN:\", train_index, \"VALID\", valid_index)\n",
        "  X_train, X_val = X_trainandval[train_index], X_trainandval[valid_index]\n",
        "  y_train, y_val = y_trainandval[train_index], y_trainandval[valid_index]\n",
        "  svc_linear.fit(scaler.transform(X_train),y_train)\n",
        "  y_predval = svc_linear.predict(scaler.transform(X_val))\n",
        "  print(svc_linear.score(scaler.transform(X_val),y_val))\n",
        "  print(confusion_matrix(y_val, y_predval))\n",
        "  print(classification_report(y_val,y_predval))\n",
        "############################################\n",
        "  cm = confusion_matrix(y_val, y_predval)\n",
        "  print('Confusion matrix\\n\\n', cm)\n",
        "  print('\\nTrue Negatives(TN) = ', cm[0,0])\n",
        "  print('\\nTrue Positives(TP) = ', cm[1,1])\n",
        "  print('\\nFalse Positives(FP) = ', cm[0,1])\n",
        "  print('\\nFalse Negatives(FN) = ', cm[1,0])\n",
        "\n",
        "\n",
        "import seaborn as sns\n",
        "cm_matrix = pd.DataFrame(data=cm, columns=['Predict Positive:0', 'Predict Negative:1'], \n",
        "                                 index=['Actual Positive:0', 'Actual Negative:1'])\n",
        "sns_heatmap_svm_base = sns.heatmap(cm_matrix, annot=True, fmt='d', cmap='YlGnBu')\n"
      ],
      "metadata": {
        "id": "Eo2_bqVsg_gz"
      },
      "execution_count": null,
      "outputs": []
    },
    {
      "cell_type": "markdown",
      "source": [
        "#Decision Tree\n"
      ],
      "metadata": {
        "id": "hnOr9SbuiihD"
      }
    },
    {
      "cell_type": "code",
      "source": [
        "from sklearn.model_selection import KFold\n",
        "import seaborn as sns\n",
        "\n",
        "# ใช้ Kfold ต้องแปลงเป็น numpy\n",
        "X = df[feature_cols].values # Features\n",
        "y = df['Success'].values # Target variable\n",
        "\n",
        "# Split dataset into training set and test set\n",
        "# แบ่งเป็นคแ่ trainandval & test\n",
        "X_trainandval, X_test, y_trainandval, y_test = train_test_split(X, y,\n",
        "    test_size=0.2 , random_state = 1)\n",
        "\n",
        "#แบ่ง trainandval เป็น train, valid 5แบบ แล้วรันโมเดล\n",
        "kf = KFold(n_splits=5, shuffle = True, random_state=1)\n",
        "kf.get_n_splits(X_trainandval)\n",
        "\n",
        "for train_index, valid_index in kf.split(X_trainandval):\n",
        "  print(\"TRAIN:\", train_index, \"VALID\", valid_index)\n",
        "  X_train, X_val = X_trainandval[train_index], X_trainandval[valid_index]\n",
        "  y_train, y_val = y_trainandval[train_index], y_trainandval[valid_index]\n",
        "\n",
        "# Create Decision Tree classifer object\n",
        "  clf = DecisionTreeClassifier(criterion='entropy', max_depth=48)\n",
        "\n",
        "# Train Decision Tree Classifer\n",
        "  clf = clf.fit(X_train,y_train)\n",
        "\n",
        "  y_predval = clf.predict(X_val)\n",
        "\n",
        "  cm = confusion_matrix(y_val, y_predval)\n",
        "  print('Confusion matrix\\n\\n', cm)\n",
        "  print('\\nTrue Negatives(TN) = ', cm[0,0])\n",
        "  print('\\nTrue Positives(TP) = ', cm[1,1])\n",
        "  print('\\nFalse Positives(FP) = ', cm[0,1])\n",
        "  print('\\nFalse Negatives(FN) = ', cm[1,0])\n",
        "\n",
        "  cm_matrix = pd.DataFrame(data=cm, columns=['Predict Positive:0', 'Predict Negative:1'], \n",
        "                                 index=['Actual Positive:0', 'Actual Negative:1'])\n",
        "  sns_heatmap_svm_base = sns.heatmap(cm_matrix, annot=True, fmt='d', cmap='YlGnBu')\n",
        "  print(classification_report(y_val,y_predval))\n",
        "  print_score(clf, X_train, y_train, X_val, y_val, train=False)\n",
        "  print_score(clf, X_train, y_train, X_val, y_val, train=True)\n"
      ],
      "metadata": {
        "id": "3so3jRIEioUG"
      },
      "execution_count": null,
      "outputs": []
    },
    {
      "cell_type": "code",
      "source": [
        "from numpy import mean\n",
        "from numpy import std\n",
        "from sklearn.datasets import make_classification\n",
        "from sklearn.model_selection import KFold\n",
        "from sklearn.model_selection import cross_val_score\n",
        "from sklearn.linear_model import LogisticRegression\n",
        "from sklearn import tree\n",
        "# create dataset\n",
        "X = df[feature_cols] # Features\n",
        "y = df.Success # Target variable\n",
        "\n",
        "X_trainandval, X_test, y_trainandval, y_test = train_test_split(X, y,\n",
        "    test_size=0.2 , random_state = 1)\n",
        "\n",
        "x_train,x_val,y_train,y_val = train_test_split(X_trainandval,y_trainandval,test_size=0.25,random_state=0)\n",
        "depth = []\n",
        "for i in range(3,60):\n",
        "    clf = tree.DecisionTreeClassifier(criterion='entropy',max_depth=i)\n",
        "    # Perform 5-fold cross validation \n",
        "    scores = cross_val_score(estimator=clf, X=X_trainandval, y=y_trainandval, cv=5,scoring='recall')\n",
        "    depth.append((i,scores.mean()))\n",
        "print(depth)\n",
        "\n",
        "\n",
        "from sklearn.model_selection import GridSearchCV\n",
        "parameters = {'max_depth':range(3,60)}\n",
        "clf = GridSearchCV(tree.DecisionTreeClassifier(criterion='entropy'), parameters, scoring='recall',\n",
        "                   verbose=1, n_jobs=-1, cv=5)\n",
        "clf.fit(X_trainandval, y_trainandval)\n",
        "tree_model = clf.best_estimator_\n",
        "best_params = clf.best_params_\n",
        "total_result = clf.cv_results_\n",
        "\n",
        "print(f\"Best parameters: {best_params}\")\n",
        "print(f\"Total Result: {total_result}\")\n",
        "print (clf.best_score_, clf.best_params_) \n",
        "\n",
        "\n",
        "\n",
        "# prepare the cross-validation procedure\n",
        "cv = KFold(n_splits=5, random_state=1, shuffle=True)\n",
        "# create model\n",
        "model = DecisionTreeClassifier(criterion='entropy')\n",
        "# evaluate model\n",
        "scores = cross_val_score(model, X_trainandval, y_trainandval, scoring='recall', cv=5)\n",
        "# report performance\n",
        "print('Accuracy: %.3f (%.3f)' % (mean(scores), std(scores)))"
      ],
      "metadata": {
        "id": "KDKF0bespn9P"
      },
      "execution_count": null,
      "outputs": []
    }
  ]
}